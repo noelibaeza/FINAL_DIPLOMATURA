{
  "cells": [
    {
      "cell_type": "markdown",
      "metadata": {
        "_cell_guid": "7238ae8d-73dc-474b-9d36-92647cdc6030",
        "_execution_state": "idle",
        "_uuid": "691c624259cf2737f7e29c2fdbbc7f255e842eb2",
        "id": "pDcweGhfmgfY"
      },
      "source": [
        "<img src=\"https://fcytvirtual.uader.edu.ar/pluginfile.php/1/theme_klass/logo/1683584239/miuader.PNG\" alt=\"UADER | FCyT\" />\n",
        "\n",
        "# Diplomatura en Ciencias de Datos Aplicada\n",
        "\n",
        "## Trabajo final | Septiembre 2023\n",
        "\n",
        "**En este notebook se presenta el enunciado del trabajo final que los distintos grupos deberán desarrollar. A su vez, se introduce también un ejemplo que pueden utilizar para tomar como base en la estructura de sus trabajos.**\n",
        "\n"
      ]
    },
    {
      "cell_type": "markdown",
      "source": [
        "### RECUERDEN HACER UNA COPIA DEL COLAB ANTES DE EMPEZAR A TRABAJAR"
      ],
      "metadata": {
        "id": "__YlxOczgNAt"
      }
    },
    {
      "cell_type": "markdown",
      "metadata": {
        "_cell_guid": "735c5797-4457-4e16-b21f-7f0982f2f016",
        "_execution_state": "idle",
        "_uuid": "35143ae31bde76e140a55855b89e0d42b56160a3",
        "id": "i6aAo68nmgfc"
      },
      "source": [
        "# Enunciado\n",
        "\n",
        "### Análisis de los datos\n",
        "Seleccionar un conjunto de datos que sea de su interés y tenga al menos 6 variables. Una de ellas deberá ser el \"target\" del problema en cuestión.\n",
        "\n",
        "A partir de la elección del conjunto de datos se debe realizar un análisis exploratorio donde se detallen al menos las siguientes cuestiones:\n",
        "\n",
        "*   Cantidad y tipo de variables de entrada disponibles\n",
        "*   Cantidad de valores nulos para cada variable\n",
        "*   Tipo, cantidad de valores nulos y distribución de la variable de salida\n",
        "*   Análisis de correlación\n",
        "*   Visualizaciones que ayuden a entender si existe o no alguna relación entre una o más variables de entrada y la variable de salida\n",
        "\n",
        "\n",
        "### Modelado\n",
        "\n",
        "Detallar explícitamente cual será la métrica o las métricas que se utilizarán para comparar el desempeño de distintos modelos. Describir también cuál será el método utilizado para asegurar el rendimiento de los mismos (k-fold cross validation, train/test split, etc.). Justifique.\n",
        "\n",
        "Realizar las transformaciones de datos pertinentes y entrenar al menos 3 modelos diferentes. Comparar los resultados entre ellos y concluir sobre cuál sería el mejor modelo a utilizar. Justifique su elección."
      ]
    },
    {
      "cell_type": "markdown",
      "source": [
        "\n",
        "\n",
        "---\n",
        "\n"
      ],
      "metadata": {
        "id": "3IwKt4Clp4Vn"
      }
    },
    {
      "cell_type": "markdown",
      "metadata": {
        "_cell_guid": "d006e9e6-e191-4918-b8c1-5730f1d08e77",
        "_uuid": "ae5d947988d70f9ccbea3345f396c8394e7b1e4b",
        "id": "00htBOBrmgfd"
      },
      "source": [
        "# Ejemplo: Prediciendo el precio de viviendas\n",
        "\n",
        "Con 79 variables explicativas que describen (casi) todos los aspectos de las viviendas residenciales en Ames, Iowa, este conjunto de datos permite predecir el precio final de cada vivienda.\n",
        "\n"
      ]
    },
    {
      "cell_type": "markdown",
      "source": [
        "#### Imports y configuraciones generales"
      ],
      "metadata": {
        "id": "T9DmMIKbLKdq"
      }
    },
    {
      "cell_type": "code",
      "execution_count": null,
      "metadata": {
        "_cell_guid": "2dbccbd6-138b-4f1b-9b23-fd60c7525c14",
        "_execution_state": "idle",
        "_uuid": "c9b1d5dff21d39260eb47af6fe7aac4bd03be233",
        "collapsed": true,
        "id": "k7Au17l3mgfe"
      },
      "outputs": [],
      "source": [
        "import os\n",
        "\n",
        "import numpy as np\n",
        "import pandas as pd\n",
        "\n",
        "%matplotlib inline\n",
        "import matplotlib.pyplot as plt\n",
        "import seaborn as sns\n",
        "color = sns.color_palette()\n",
        "sns.set_style('darkgrid')\n",
        "\n",
        "from scipy import stats\n",
        "from scipy.stats import norm, skew\n",
        "\n",
        "pd.set_option('display.float_format', lambda x: '{:.3f}'.format(x))\n",
        "pd.set_option('display.max_columns', 500)"
      ]
    },
    {
      "cell_type": "markdown",
      "source": [
        "#### Descarga y procesamiento inicial de los datos"
      ],
      "metadata": {
        "id": "Wn0WLzukLOcc"
      }
    },
    {
      "cell_type": "code",
      "source": [
        "if not os.path.exists(\"/UADER_DiploDatos_TF/\"):\n",
        "    os.makedirs(\"/UADER_DiploDatos_TF/\")\n",
        "os.chdir(\"/UADER_DiploDatos_TF/\")"
      ],
      "metadata": {
        "id": "otPQPN2Zqs79"
      },
      "execution_count": null,
      "outputs": []
    },
    {
      "cell_type": "code",
      "source": [
        "!wget --quiet --no-clobber https://www.dropbox.com/scl/fi/fb8ewlrdk4nos5jhv9k45/train.csv?rlkey=56upxmtx7qq4ujhp1b8eer0xp&dl=1\n",
        "!wget --quiet --no-clobber https://www.dropbox.com/scl/fi/illh6aamlj41c2zdo9oi5/test.csv?rlkey=1rgvvjc5j93wt87dk5vjqt4dq&dl=1"
      ],
      "metadata": {
        "id": "qD1uLqndqeZ0"
      },
      "execution_count": null,
      "outputs": []
    },
    {
      "cell_type": "code",
      "execution_count": null,
      "metadata": {
        "_cell_guid": "59617b4b-d797-44ce-9142-05fbfd36aada",
        "_execution_state": "idle",
        "_uuid": "0e694d13459e3e200f6e2c6333c887cbad779ba9",
        "collapsed": true,
        "id": "5eJQWOiAmgfg"
      },
      "outputs": [],
      "source": [
        "train = pd.read_csv('train.csv?rlkey=56upxmtx7qq4ujhp1b8eer0xp')\n",
        "y_train = train.SalePrice.values\n",
        "test = pd.read_csv('test.csv?rlkey=1rgvvjc5j93wt87dk5vjqt4dq')\n",
        "all_data = pd.concat([train, test])"
      ]
    },
    {
      "cell_type": "markdown",
      "source": [
        "### Exploración inicial de los datos"
      ],
      "metadata": {
        "id": "U3YoC4r_LUKO"
      }
    },
    {
      "cell_type": "code",
      "execution_count": null,
      "metadata": {
        "_cell_guid": "3678529f-9d76-4853-88c5-4b2d230a85b6",
        "_execution_state": "idle",
        "_uuid": "3a32f51460a02fbe7a9122db55a740eb378dda97",
        "collapsed": true,
        "colab": {
          "base_uri": "https://localhost:8080/",
          "height": 226
        },
        "id": "Ejyvarv8mgfg",
        "outputId": "f08f9958-43c0-4845-9ded-a1e8fc66cb77"
      },
      "outputs": [
        {
          "output_type": "execute_result",
          "data": {
            "text/plain": [
              "   Id  MSSubClass MSZoning  LotFrontage  LotArea Street Alley LotShape  \\\n",
              "0   1          60       RL       65.000     8450   Pave   NaN      Reg   \n",
              "1   2          20       RL       80.000     9600   Pave   NaN      Reg   \n",
              "2   3          60       RL       68.000    11250   Pave   NaN      IR1   \n",
              "3   4          70       RL       60.000     9550   Pave   NaN      IR1   \n",
              "4   5          60       RL       84.000    14260   Pave   NaN      IR1   \n",
              "\n",
              "  LandContour Utilities LotConfig LandSlope Neighborhood Condition1  \\\n",
              "0         Lvl    AllPub    Inside       Gtl      CollgCr       Norm   \n",
              "1         Lvl    AllPub       FR2       Gtl      Veenker      Feedr   \n",
              "2         Lvl    AllPub    Inside       Gtl      CollgCr       Norm   \n",
              "3         Lvl    AllPub    Corner       Gtl      Crawfor       Norm   \n",
              "4         Lvl    AllPub       FR2       Gtl      NoRidge       Norm   \n",
              "\n",
              "  Condition2 BldgType HouseStyle  OverallQual  OverallCond  YearBuilt  \\\n",
              "0       Norm     1Fam     2Story            7            5       2003   \n",
              "1       Norm     1Fam     1Story            6            8       1976   \n",
              "2       Norm     1Fam     2Story            7            5       2001   \n",
              "3       Norm     1Fam     2Story            7            5       1915   \n",
              "4       Norm     1Fam     2Story            8            5       2000   \n",
              "\n",
              "   YearRemodAdd RoofStyle RoofMatl Exterior1st Exterior2nd MasVnrType  \\\n",
              "0          2003     Gable  CompShg     VinylSd     VinylSd    BrkFace   \n",
              "1          1976     Gable  CompShg     MetalSd     MetalSd       None   \n",
              "2          2002     Gable  CompShg     VinylSd     VinylSd    BrkFace   \n",
              "3          1970     Gable  CompShg     Wd Sdng     Wd Shng       None   \n",
              "4          2000     Gable  CompShg     VinylSd     VinylSd    BrkFace   \n",
              "\n",
              "   MasVnrArea ExterQual ExterCond Foundation BsmtQual BsmtCond BsmtExposure  \\\n",
              "0     196.000        Gd        TA      PConc       Gd       TA           No   \n",
              "1       0.000        TA        TA     CBlock       Gd       TA           Gd   \n",
              "2     162.000        Gd        TA      PConc       Gd       TA           Mn   \n",
              "3       0.000        TA        TA     BrkTil       TA       Gd           No   \n",
              "4     350.000        Gd        TA      PConc       Gd       TA           Av   \n",
              "\n",
              "  BsmtFinType1  BsmtFinSF1 BsmtFinType2  BsmtFinSF2  BsmtUnfSF  TotalBsmtSF  \\\n",
              "0          GLQ     706.000          Unf       0.000    150.000      856.000   \n",
              "1          ALQ     978.000          Unf       0.000    284.000     1262.000   \n",
              "2          GLQ     486.000          Unf       0.000    434.000      920.000   \n",
              "3          ALQ     216.000          Unf       0.000    540.000      756.000   \n",
              "4          GLQ     655.000          Unf       0.000    490.000     1145.000   \n",
              "\n",
              "  Heating HeatingQC CentralAir Electrical  1stFlrSF  2ndFlrSF  LowQualFinSF  \\\n",
              "0    GasA        Ex          Y      SBrkr       856       854             0   \n",
              "1    GasA        Ex          Y      SBrkr      1262         0             0   \n",
              "2    GasA        Ex          Y      SBrkr       920       866             0   \n",
              "3    GasA        Gd          Y      SBrkr       961       756             0   \n",
              "4    GasA        Ex          Y      SBrkr      1145      1053             0   \n",
              "\n",
              "   GrLivArea  BsmtFullBath  BsmtHalfBath  FullBath  HalfBath  BedroomAbvGr  \\\n",
              "0       1710         1.000         0.000         2         1             3   \n",
              "1       1262         0.000         1.000         2         0             3   \n",
              "2       1786         1.000         0.000         2         1             3   \n",
              "3       1717         1.000         0.000         1         0             3   \n",
              "4       2198         1.000         0.000         2         1             4   \n",
              "\n",
              "   KitchenAbvGr KitchenQual  TotRmsAbvGrd Functional  Fireplaces FireplaceQu  \\\n",
              "0             1          Gd             8        Typ           0         NaN   \n",
              "1             1          TA             6        Typ           1          TA   \n",
              "2             1          Gd             6        Typ           1          TA   \n",
              "3             1          Gd             7        Typ           1          Gd   \n",
              "4             1          Gd             9        Typ           1          TA   \n",
              "\n",
              "  GarageType  GarageYrBlt GarageFinish  GarageCars  GarageArea GarageQual  \\\n",
              "0     Attchd     2003.000          RFn       2.000     548.000         TA   \n",
              "1     Attchd     1976.000          RFn       2.000     460.000         TA   \n",
              "2     Attchd     2001.000          RFn       2.000     608.000         TA   \n",
              "3     Detchd     1998.000          Unf       3.000     642.000         TA   \n",
              "4     Attchd     2000.000          RFn       3.000     836.000         TA   \n",
              "\n",
              "  GarageCond PavedDrive  WoodDeckSF  OpenPorchSF  EnclosedPorch  3SsnPorch  \\\n",
              "0         TA          Y           0           61              0          0   \n",
              "1         TA          Y         298            0              0          0   \n",
              "2         TA          Y           0           42              0          0   \n",
              "3         TA          Y           0           35            272          0   \n",
              "4         TA          Y         192           84              0          0   \n",
              "\n",
              "   ScreenPorch  PoolArea PoolQC Fence MiscFeature  MiscVal  MoSold  YrSold  \\\n",
              "0            0         0    NaN   NaN         NaN        0       2    2008   \n",
              "1            0         0    NaN   NaN         NaN        0       5    2007   \n",
              "2            0         0    NaN   NaN         NaN        0       9    2008   \n",
              "3            0         0    NaN   NaN         NaN        0       2    2006   \n",
              "4            0         0    NaN   NaN         NaN        0      12    2008   \n",
              "\n",
              "  SaleType SaleCondition  SalePrice  \n",
              "0       WD        Normal 208500.000  \n",
              "1       WD        Normal 181500.000  \n",
              "2       WD        Normal 223500.000  \n",
              "3       WD       Abnorml 140000.000  \n",
              "4       WD        Normal 250000.000  "
            ],
            "text/html": [
              "\n",
              "  <div id=\"df-641f8a80-df74-475c-8dd2-28427996d2f9\" class=\"colab-df-container\">\n",
              "    <div>\n",
              "<style scoped>\n",
              "    .dataframe tbody tr th:only-of-type {\n",
              "        vertical-align: middle;\n",
              "    }\n",
              "\n",
              "    .dataframe tbody tr th {\n",
              "        vertical-align: top;\n",
              "    }\n",
              "\n",
              "    .dataframe thead th {\n",
              "        text-align: right;\n",
              "    }\n",
              "</style>\n",
              "<table border=\"1\" class=\"dataframe\">\n",
              "  <thead>\n",
              "    <tr style=\"text-align: right;\">\n",
              "      <th></th>\n",
              "      <th>Id</th>\n",
              "      <th>MSSubClass</th>\n",
              "      <th>MSZoning</th>\n",
              "      <th>LotFrontage</th>\n",
              "      <th>LotArea</th>\n",
              "      <th>Street</th>\n",
              "      <th>Alley</th>\n",
              "      <th>LotShape</th>\n",
              "      <th>LandContour</th>\n",
              "      <th>Utilities</th>\n",
              "      <th>LotConfig</th>\n",
              "      <th>LandSlope</th>\n",
              "      <th>Neighborhood</th>\n",
              "      <th>Condition1</th>\n",
              "      <th>Condition2</th>\n",
              "      <th>BldgType</th>\n",
              "      <th>HouseStyle</th>\n",
              "      <th>OverallQual</th>\n",
              "      <th>OverallCond</th>\n",
              "      <th>YearBuilt</th>\n",
              "      <th>YearRemodAdd</th>\n",
              "      <th>RoofStyle</th>\n",
              "      <th>RoofMatl</th>\n",
              "      <th>Exterior1st</th>\n",
              "      <th>Exterior2nd</th>\n",
              "      <th>MasVnrType</th>\n",
              "      <th>MasVnrArea</th>\n",
              "      <th>ExterQual</th>\n",
              "      <th>ExterCond</th>\n",
              "      <th>Foundation</th>\n",
              "      <th>BsmtQual</th>\n",
              "      <th>BsmtCond</th>\n",
              "      <th>BsmtExposure</th>\n",
              "      <th>BsmtFinType1</th>\n",
              "      <th>BsmtFinSF1</th>\n",
              "      <th>BsmtFinType2</th>\n",
              "      <th>BsmtFinSF2</th>\n",
              "      <th>BsmtUnfSF</th>\n",
              "      <th>TotalBsmtSF</th>\n",
              "      <th>Heating</th>\n",
              "      <th>HeatingQC</th>\n",
              "      <th>CentralAir</th>\n",
              "      <th>Electrical</th>\n",
              "      <th>1stFlrSF</th>\n",
              "      <th>2ndFlrSF</th>\n",
              "      <th>LowQualFinSF</th>\n",
              "      <th>GrLivArea</th>\n",
              "      <th>BsmtFullBath</th>\n",
              "      <th>BsmtHalfBath</th>\n",
              "      <th>FullBath</th>\n",
              "      <th>HalfBath</th>\n",
              "      <th>BedroomAbvGr</th>\n",
              "      <th>KitchenAbvGr</th>\n",
              "      <th>KitchenQual</th>\n",
              "      <th>TotRmsAbvGrd</th>\n",
              "      <th>Functional</th>\n",
              "      <th>Fireplaces</th>\n",
              "      <th>FireplaceQu</th>\n",
              "      <th>GarageType</th>\n",
              "      <th>GarageYrBlt</th>\n",
              "      <th>GarageFinish</th>\n",
              "      <th>GarageCars</th>\n",
              "      <th>GarageArea</th>\n",
              "      <th>GarageQual</th>\n",
              "      <th>GarageCond</th>\n",
              "      <th>PavedDrive</th>\n",
              "      <th>WoodDeckSF</th>\n",
              "      <th>OpenPorchSF</th>\n",
              "      <th>EnclosedPorch</th>\n",
              "      <th>3SsnPorch</th>\n",
              "      <th>ScreenPorch</th>\n",
              "      <th>PoolArea</th>\n",
              "      <th>PoolQC</th>\n",
              "      <th>Fence</th>\n",
              "      <th>MiscFeature</th>\n",
              "      <th>MiscVal</th>\n",
              "      <th>MoSold</th>\n",
              "      <th>YrSold</th>\n",
              "      <th>SaleType</th>\n",
              "      <th>SaleCondition</th>\n",
              "      <th>SalePrice</th>\n",
              "    </tr>\n",
              "  </thead>\n",
              "  <tbody>\n",
              "    <tr>\n",
              "      <th>0</th>\n",
              "      <td>1</td>\n",
              "      <td>60</td>\n",
              "      <td>RL</td>\n",
              "      <td>65.000</td>\n",
              "      <td>8450</td>\n",
              "      <td>Pave</td>\n",
              "      <td>NaN</td>\n",
              "      <td>Reg</td>\n",
              "      <td>Lvl</td>\n",
              "      <td>AllPub</td>\n",
              "      <td>Inside</td>\n",
              "      <td>Gtl</td>\n",
              "      <td>CollgCr</td>\n",
              "      <td>Norm</td>\n",
              "      <td>Norm</td>\n",
              "      <td>1Fam</td>\n",
              "      <td>2Story</td>\n",
              "      <td>7</td>\n",
              "      <td>5</td>\n",
              "      <td>2003</td>\n",
              "      <td>2003</td>\n",
              "      <td>Gable</td>\n",
              "      <td>CompShg</td>\n",
              "      <td>VinylSd</td>\n",
              "      <td>VinylSd</td>\n",
              "      <td>BrkFace</td>\n",
              "      <td>196.000</td>\n",
              "      <td>Gd</td>\n",
              "      <td>TA</td>\n",
              "      <td>PConc</td>\n",
              "      <td>Gd</td>\n",
              "      <td>TA</td>\n",
              "      <td>No</td>\n",
              "      <td>GLQ</td>\n",
              "      <td>706.000</td>\n",
              "      <td>Unf</td>\n",
              "      <td>0.000</td>\n",
              "      <td>150.000</td>\n",
              "      <td>856.000</td>\n",
              "      <td>GasA</td>\n",
              "      <td>Ex</td>\n",
              "      <td>Y</td>\n",
              "      <td>SBrkr</td>\n",
              "      <td>856</td>\n",
              "      <td>854</td>\n",
              "      <td>0</td>\n",
              "      <td>1710</td>\n",
              "      <td>1.000</td>\n",
              "      <td>0.000</td>\n",
              "      <td>2</td>\n",
              "      <td>1</td>\n",
              "      <td>3</td>\n",
              "      <td>1</td>\n",
              "      <td>Gd</td>\n",
              "      <td>8</td>\n",
              "      <td>Typ</td>\n",
              "      <td>0</td>\n",
              "      <td>NaN</td>\n",
              "      <td>Attchd</td>\n",
              "      <td>2003.000</td>\n",
              "      <td>RFn</td>\n",
              "      <td>2.000</td>\n",
              "      <td>548.000</td>\n",
              "      <td>TA</td>\n",
              "      <td>TA</td>\n",
              "      <td>Y</td>\n",
              "      <td>0</td>\n",
              "      <td>61</td>\n",
              "      <td>0</td>\n",
              "      <td>0</td>\n",
              "      <td>0</td>\n",
              "      <td>0</td>\n",
              "      <td>NaN</td>\n",
              "      <td>NaN</td>\n",
              "      <td>NaN</td>\n",
              "      <td>0</td>\n",
              "      <td>2</td>\n",
              "      <td>2008</td>\n",
              "      <td>WD</td>\n",
              "      <td>Normal</td>\n",
              "      <td>208500.000</td>\n",
              "    </tr>\n",
              "    <tr>\n",
              "      <th>1</th>\n",
              "      <td>2</td>\n",
              "      <td>20</td>\n",
              "      <td>RL</td>\n",
              "      <td>80.000</td>\n",
              "      <td>9600</td>\n",
              "      <td>Pave</td>\n",
              "      <td>NaN</td>\n",
              "      <td>Reg</td>\n",
              "      <td>Lvl</td>\n",
              "      <td>AllPub</td>\n",
              "      <td>FR2</td>\n",
              "      <td>Gtl</td>\n",
              "      <td>Veenker</td>\n",
              "      <td>Feedr</td>\n",
              "      <td>Norm</td>\n",
              "      <td>1Fam</td>\n",
              "      <td>1Story</td>\n",
              "      <td>6</td>\n",
              "      <td>8</td>\n",
              "      <td>1976</td>\n",
              "      <td>1976</td>\n",
              "      <td>Gable</td>\n",
              "      <td>CompShg</td>\n",
              "      <td>MetalSd</td>\n",
              "      <td>MetalSd</td>\n",
              "      <td>None</td>\n",
              "      <td>0.000</td>\n",
              "      <td>TA</td>\n",
              "      <td>TA</td>\n",
              "      <td>CBlock</td>\n",
              "      <td>Gd</td>\n",
              "      <td>TA</td>\n",
              "      <td>Gd</td>\n",
              "      <td>ALQ</td>\n",
              "      <td>978.000</td>\n",
              "      <td>Unf</td>\n",
              "      <td>0.000</td>\n",
              "      <td>284.000</td>\n",
              "      <td>1262.000</td>\n",
              "      <td>GasA</td>\n",
              "      <td>Ex</td>\n",
              "      <td>Y</td>\n",
              "      <td>SBrkr</td>\n",
              "      <td>1262</td>\n",
              "      <td>0</td>\n",
              "      <td>0</td>\n",
              "      <td>1262</td>\n",
              "      <td>0.000</td>\n",
              "      <td>1.000</td>\n",
              "      <td>2</td>\n",
              "      <td>0</td>\n",
              "      <td>3</td>\n",
              "      <td>1</td>\n",
              "      <td>TA</td>\n",
              "      <td>6</td>\n",
              "      <td>Typ</td>\n",
              "      <td>1</td>\n",
              "      <td>TA</td>\n",
              "      <td>Attchd</td>\n",
              "      <td>1976.000</td>\n",
              "      <td>RFn</td>\n",
              "      <td>2.000</td>\n",
              "      <td>460.000</td>\n",
              "      <td>TA</td>\n",
              "      <td>TA</td>\n",
              "      <td>Y</td>\n",
              "      <td>298</td>\n",
              "      <td>0</td>\n",
              "      <td>0</td>\n",
              "      <td>0</td>\n",
              "      <td>0</td>\n",
              "      <td>0</td>\n",
              "      <td>NaN</td>\n",
              "      <td>NaN</td>\n",
              "      <td>NaN</td>\n",
              "      <td>0</td>\n",
              "      <td>5</td>\n",
              "      <td>2007</td>\n",
              "      <td>WD</td>\n",
              "      <td>Normal</td>\n",
              "      <td>181500.000</td>\n",
              "    </tr>\n",
              "    <tr>\n",
              "      <th>2</th>\n",
              "      <td>3</td>\n",
              "      <td>60</td>\n",
              "      <td>RL</td>\n",
              "      <td>68.000</td>\n",
              "      <td>11250</td>\n",
              "      <td>Pave</td>\n",
              "      <td>NaN</td>\n",
              "      <td>IR1</td>\n",
              "      <td>Lvl</td>\n",
              "      <td>AllPub</td>\n",
              "      <td>Inside</td>\n",
              "      <td>Gtl</td>\n",
              "      <td>CollgCr</td>\n",
              "      <td>Norm</td>\n",
              "      <td>Norm</td>\n",
              "      <td>1Fam</td>\n",
              "      <td>2Story</td>\n",
              "      <td>7</td>\n",
              "      <td>5</td>\n",
              "      <td>2001</td>\n",
              "      <td>2002</td>\n",
              "      <td>Gable</td>\n",
              "      <td>CompShg</td>\n",
              "      <td>VinylSd</td>\n",
              "      <td>VinylSd</td>\n",
              "      <td>BrkFace</td>\n",
              "      <td>162.000</td>\n",
              "      <td>Gd</td>\n",
              "      <td>TA</td>\n",
              "      <td>PConc</td>\n",
              "      <td>Gd</td>\n",
              "      <td>TA</td>\n",
              "      <td>Mn</td>\n",
              "      <td>GLQ</td>\n",
              "      <td>486.000</td>\n",
              "      <td>Unf</td>\n",
              "      <td>0.000</td>\n",
              "      <td>434.000</td>\n",
              "      <td>920.000</td>\n",
              "      <td>GasA</td>\n",
              "      <td>Ex</td>\n",
              "      <td>Y</td>\n",
              "      <td>SBrkr</td>\n",
              "      <td>920</td>\n",
              "      <td>866</td>\n",
              "      <td>0</td>\n",
              "      <td>1786</td>\n",
              "      <td>1.000</td>\n",
              "      <td>0.000</td>\n",
              "      <td>2</td>\n",
              "      <td>1</td>\n",
              "      <td>3</td>\n",
              "      <td>1</td>\n",
              "      <td>Gd</td>\n",
              "      <td>6</td>\n",
              "      <td>Typ</td>\n",
              "      <td>1</td>\n",
              "      <td>TA</td>\n",
              "      <td>Attchd</td>\n",
              "      <td>2001.000</td>\n",
              "      <td>RFn</td>\n",
              "      <td>2.000</td>\n",
              "      <td>608.000</td>\n",
              "      <td>TA</td>\n",
              "      <td>TA</td>\n",
              "      <td>Y</td>\n",
              "      <td>0</td>\n",
              "      <td>42</td>\n",
              "      <td>0</td>\n",
              "      <td>0</td>\n",
              "      <td>0</td>\n",
              "      <td>0</td>\n",
              "      <td>NaN</td>\n",
              "      <td>NaN</td>\n",
              "      <td>NaN</td>\n",
              "      <td>0</td>\n",
              "      <td>9</td>\n",
              "      <td>2008</td>\n",
              "      <td>WD</td>\n",
              "      <td>Normal</td>\n",
              "      <td>223500.000</td>\n",
              "    </tr>\n",
              "    <tr>\n",
              "      <th>3</th>\n",
              "      <td>4</td>\n",
              "      <td>70</td>\n",
              "      <td>RL</td>\n",
              "      <td>60.000</td>\n",
              "      <td>9550</td>\n",
              "      <td>Pave</td>\n",
              "      <td>NaN</td>\n",
              "      <td>IR1</td>\n",
              "      <td>Lvl</td>\n",
              "      <td>AllPub</td>\n",
              "      <td>Corner</td>\n",
              "      <td>Gtl</td>\n",
              "      <td>Crawfor</td>\n",
              "      <td>Norm</td>\n",
              "      <td>Norm</td>\n",
              "      <td>1Fam</td>\n",
              "      <td>2Story</td>\n",
              "      <td>7</td>\n",
              "      <td>5</td>\n",
              "      <td>1915</td>\n",
              "      <td>1970</td>\n",
              "      <td>Gable</td>\n",
              "      <td>CompShg</td>\n",
              "      <td>Wd Sdng</td>\n",
              "      <td>Wd Shng</td>\n",
              "      <td>None</td>\n",
              "      <td>0.000</td>\n",
              "      <td>TA</td>\n",
              "      <td>TA</td>\n",
              "      <td>BrkTil</td>\n",
              "      <td>TA</td>\n",
              "      <td>Gd</td>\n",
              "      <td>No</td>\n",
              "      <td>ALQ</td>\n",
              "      <td>216.000</td>\n",
              "      <td>Unf</td>\n",
              "      <td>0.000</td>\n",
              "      <td>540.000</td>\n",
              "      <td>756.000</td>\n",
              "      <td>GasA</td>\n",
              "      <td>Gd</td>\n",
              "      <td>Y</td>\n",
              "      <td>SBrkr</td>\n",
              "      <td>961</td>\n",
              "      <td>756</td>\n",
              "      <td>0</td>\n",
              "      <td>1717</td>\n",
              "      <td>1.000</td>\n",
              "      <td>0.000</td>\n",
              "      <td>1</td>\n",
              "      <td>0</td>\n",
              "      <td>3</td>\n",
              "      <td>1</td>\n",
              "      <td>Gd</td>\n",
              "      <td>7</td>\n",
              "      <td>Typ</td>\n",
              "      <td>1</td>\n",
              "      <td>Gd</td>\n",
              "      <td>Detchd</td>\n",
              "      <td>1998.000</td>\n",
              "      <td>Unf</td>\n",
              "      <td>3.000</td>\n",
              "      <td>642.000</td>\n",
              "      <td>TA</td>\n",
              "      <td>TA</td>\n",
              "      <td>Y</td>\n",
              "      <td>0</td>\n",
              "      <td>35</td>\n",
              "      <td>272</td>\n",
              "      <td>0</td>\n",
              "      <td>0</td>\n",
              "      <td>0</td>\n",
              "      <td>NaN</td>\n",
              "      <td>NaN</td>\n",
              "      <td>NaN</td>\n",
              "      <td>0</td>\n",
              "      <td>2</td>\n",
              "      <td>2006</td>\n",
              "      <td>WD</td>\n",
              "      <td>Abnorml</td>\n",
              "      <td>140000.000</td>\n",
              "    </tr>\n",
              "    <tr>\n",
              "      <th>4</th>\n",
              "      <td>5</td>\n",
              "      <td>60</td>\n",
              "      <td>RL</td>\n",
              "      <td>84.000</td>\n",
              "      <td>14260</td>\n",
              "      <td>Pave</td>\n",
              "      <td>NaN</td>\n",
              "      <td>IR1</td>\n",
              "      <td>Lvl</td>\n",
              "      <td>AllPub</td>\n",
              "      <td>FR2</td>\n",
              "      <td>Gtl</td>\n",
              "      <td>NoRidge</td>\n",
              "      <td>Norm</td>\n",
              "      <td>Norm</td>\n",
              "      <td>1Fam</td>\n",
              "      <td>2Story</td>\n",
              "      <td>8</td>\n",
              "      <td>5</td>\n",
              "      <td>2000</td>\n",
              "      <td>2000</td>\n",
              "      <td>Gable</td>\n",
              "      <td>CompShg</td>\n",
              "      <td>VinylSd</td>\n",
              "      <td>VinylSd</td>\n",
              "      <td>BrkFace</td>\n",
              "      <td>350.000</td>\n",
              "      <td>Gd</td>\n",
              "      <td>TA</td>\n",
              "      <td>PConc</td>\n",
              "      <td>Gd</td>\n",
              "      <td>TA</td>\n",
              "      <td>Av</td>\n",
              "      <td>GLQ</td>\n",
              "      <td>655.000</td>\n",
              "      <td>Unf</td>\n",
              "      <td>0.000</td>\n",
              "      <td>490.000</td>\n",
              "      <td>1145.000</td>\n",
              "      <td>GasA</td>\n",
              "      <td>Ex</td>\n",
              "      <td>Y</td>\n",
              "      <td>SBrkr</td>\n",
              "      <td>1145</td>\n",
              "      <td>1053</td>\n",
              "      <td>0</td>\n",
              "      <td>2198</td>\n",
              "      <td>1.000</td>\n",
              "      <td>0.000</td>\n",
              "      <td>2</td>\n",
              "      <td>1</td>\n",
              "      <td>4</td>\n",
              "      <td>1</td>\n",
              "      <td>Gd</td>\n",
              "      <td>9</td>\n",
              "      <td>Typ</td>\n",
              "      <td>1</td>\n",
              "      <td>TA</td>\n",
              "      <td>Attchd</td>\n",
              "      <td>2000.000</td>\n",
              "      <td>RFn</td>\n",
              "      <td>3.000</td>\n",
              "      <td>836.000</td>\n",
              "      <td>TA</td>\n",
              "      <td>TA</td>\n",
              "      <td>Y</td>\n",
              "      <td>192</td>\n",
              "      <td>84</td>\n",
              "      <td>0</td>\n",
              "      <td>0</td>\n",
              "      <td>0</td>\n",
              "      <td>0</td>\n",
              "      <td>NaN</td>\n",
              "      <td>NaN</td>\n",
              "      <td>NaN</td>\n",
              "      <td>0</td>\n",
              "      <td>12</td>\n",
              "      <td>2008</td>\n",
              "      <td>WD</td>\n",
              "      <td>Normal</td>\n",
              "      <td>250000.000</td>\n",
              "    </tr>\n",
              "  </tbody>\n",
              "</table>\n",
              "</div>\n",
              "    <div class=\"colab-df-buttons\">\n",
              "\n",
              "  <div class=\"colab-df-container\">\n",
              "    <button class=\"colab-df-convert\" onclick=\"convertToInteractive('df-641f8a80-df74-475c-8dd2-28427996d2f9')\"\n",
              "            title=\"Convert this dataframe to an interactive table.\"\n",
              "            style=\"display:none;\">\n",
              "\n",
              "  <svg xmlns=\"http://www.w3.org/2000/svg\" height=\"24px\" viewBox=\"0 -960 960 960\">\n",
              "    <path d=\"M120-120v-720h720v720H120Zm60-500h600v-160H180v160Zm220 220h160v-160H400v160Zm0 220h160v-160H400v160ZM180-400h160v-160H180v160Zm440 0h160v-160H620v160ZM180-180h160v-160H180v160Zm440 0h160v-160H620v160Z\"/>\n",
              "  </svg>\n",
              "    </button>\n",
              "\n",
              "  <style>\n",
              "    .colab-df-container {\n",
              "      display:flex;\n",
              "      gap: 12px;\n",
              "    }\n",
              "\n",
              "    .colab-df-convert {\n",
              "      background-color: #E8F0FE;\n",
              "      border: none;\n",
              "      border-radius: 50%;\n",
              "      cursor: pointer;\n",
              "      display: none;\n",
              "      fill: #1967D2;\n",
              "      height: 32px;\n",
              "      padding: 0 0 0 0;\n",
              "      width: 32px;\n",
              "    }\n",
              "\n",
              "    .colab-df-convert:hover {\n",
              "      background-color: #E2EBFA;\n",
              "      box-shadow: 0px 1px 2px rgba(60, 64, 67, 0.3), 0px 1px 3px 1px rgba(60, 64, 67, 0.15);\n",
              "      fill: #174EA6;\n",
              "    }\n",
              "\n",
              "    .colab-df-buttons div {\n",
              "      margin-bottom: 4px;\n",
              "    }\n",
              "\n",
              "    [theme=dark] .colab-df-convert {\n",
              "      background-color: #3B4455;\n",
              "      fill: #D2E3FC;\n",
              "    }\n",
              "\n",
              "    [theme=dark] .colab-df-convert:hover {\n",
              "      background-color: #434B5C;\n",
              "      box-shadow: 0px 1px 3px 1px rgba(0, 0, 0, 0.15);\n",
              "      filter: drop-shadow(0px 1px 2px rgba(0, 0, 0, 0.3));\n",
              "      fill: #FFFFFF;\n",
              "    }\n",
              "  </style>\n",
              "\n",
              "    <script>\n",
              "      const buttonEl =\n",
              "        document.querySelector('#df-641f8a80-df74-475c-8dd2-28427996d2f9 button.colab-df-convert');\n",
              "      buttonEl.style.display =\n",
              "        google.colab.kernel.accessAllowed ? 'block' : 'none';\n",
              "\n",
              "      async function convertToInteractive(key) {\n",
              "        const element = document.querySelector('#df-641f8a80-df74-475c-8dd2-28427996d2f9');\n",
              "        const dataTable =\n",
              "          await google.colab.kernel.invokeFunction('convertToInteractive',\n",
              "                                                    [key], {});\n",
              "        if (!dataTable) return;\n",
              "\n",
              "        const docLinkHtml = 'Like what you see? Visit the ' +\n",
              "          '<a target=\"_blank\" href=https://colab.research.google.com/notebooks/data_table.ipynb>data table notebook</a>'\n",
              "          + ' to learn more about interactive tables.';\n",
              "        element.innerHTML = '';\n",
              "        dataTable['output_type'] = 'display_data';\n",
              "        await google.colab.output.renderOutput(dataTable, element);\n",
              "        const docLink = document.createElement('div');\n",
              "        docLink.innerHTML = docLinkHtml;\n",
              "        element.appendChild(docLink);\n",
              "      }\n",
              "    </script>\n",
              "  </div>\n",
              "\n",
              "\n",
              "<div id=\"df-4c1bfa80-df84-4c00-aa65-ac427332d2a1\">\n",
              "  <button class=\"colab-df-quickchart\" onclick=\"quickchart('df-4c1bfa80-df84-4c00-aa65-ac427332d2a1')\"\n",
              "            title=\"Suggest charts.\"\n",
              "            style=\"display:none;\">\n",
              "\n",
              "<svg xmlns=\"http://www.w3.org/2000/svg\" height=\"24px\"viewBox=\"0 0 24 24\"\n",
              "     width=\"24px\">\n",
              "    <g>\n",
              "        <path d=\"M19 3H5c-1.1 0-2 .9-2 2v14c0 1.1.9 2 2 2h14c1.1 0 2-.9 2-2V5c0-1.1-.9-2-2-2zM9 17H7v-7h2v7zm4 0h-2V7h2v10zm4 0h-2v-4h2v4z\"/>\n",
              "    </g>\n",
              "</svg>\n",
              "  </button>\n",
              "\n",
              "<style>\n",
              "  .colab-df-quickchart {\n",
              "      --bg-color: #E8F0FE;\n",
              "      --fill-color: #1967D2;\n",
              "      --hover-bg-color: #E2EBFA;\n",
              "      --hover-fill-color: #174EA6;\n",
              "      --disabled-fill-color: #AAA;\n",
              "      --disabled-bg-color: #DDD;\n",
              "  }\n",
              "\n",
              "  [theme=dark] .colab-df-quickchart {\n",
              "      --bg-color: #3B4455;\n",
              "      --fill-color: #D2E3FC;\n",
              "      --hover-bg-color: #434B5C;\n",
              "      --hover-fill-color: #FFFFFF;\n",
              "      --disabled-bg-color: #3B4455;\n",
              "      --disabled-fill-color: #666;\n",
              "  }\n",
              "\n",
              "  .colab-df-quickchart {\n",
              "    background-color: var(--bg-color);\n",
              "    border: none;\n",
              "    border-radius: 50%;\n",
              "    cursor: pointer;\n",
              "    display: none;\n",
              "    fill: var(--fill-color);\n",
              "    height: 32px;\n",
              "    padding: 0;\n",
              "    width: 32px;\n",
              "  }\n",
              "\n",
              "  .colab-df-quickchart:hover {\n",
              "    background-color: var(--hover-bg-color);\n",
              "    box-shadow: 0 1px 2px rgba(60, 64, 67, 0.3), 0 1px 3px 1px rgba(60, 64, 67, 0.15);\n",
              "    fill: var(--button-hover-fill-color);\n",
              "  }\n",
              "\n",
              "  .colab-df-quickchart-complete:disabled,\n",
              "  .colab-df-quickchart-complete:disabled:hover {\n",
              "    background-color: var(--disabled-bg-color);\n",
              "    fill: var(--disabled-fill-color);\n",
              "    box-shadow: none;\n",
              "  }\n",
              "\n",
              "  .colab-df-spinner {\n",
              "    border: 2px solid var(--fill-color);\n",
              "    border-color: transparent;\n",
              "    border-bottom-color: var(--fill-color);\n",
              "    animation:\n",
              "      spin 1s steps(1) infinite;\n",
              "  }\n",
              "\n",
              "  @keyframes spin {\n",
              "    0% {\n",
              "      border-color: transparent;\n",
              "      border-bottom-color: var(--fill-color);\n",
              "      border-left-color: var(--fill-color);\n",
              "    }\n",
              "    20% {\n",
              "      border-color: transparent;\n",
              "      border-left-color: var(--fill-color);\n",
              "      border-top-color: var(--fill-color);\n",
              "    }\n",
              "    30% {\n",
              "      border-color: transparent;\n",
              "      border-left-color: var(--fill-color);\n",
              "      border-top-color: var(--fill-color);\n",
              "      border-right-color: var(--fill-color);\n",
              "    }\n",
              "    40% {\n",
              "      border-color: transparent;\n",
              "      border-right-color: var(--fill-color);\n",
              "      border-top-color: var(--fill-color);\n",
              "    }\n",
              "    60% {\n",
              "      border-color: transparent;\n",
              "      border-right-color: var(--fill-color);\n",
              "    }\n",
              "    80% {\n",
              "      border-color: transparent;\n",
              "      border-right-color: var(--fill-color);\n",
              "      border-bottom-color: var(--fill-color);\n",
              "    }\n",
              "    90% {\n",
              "      border-color: transparent;\n",
              "      border-bottom-color: var(--fill-color);\n",
              "    }\n",
              "  }\n",
              "</style>\n",
              "\n",
              "  <script>\n",
              "    async function quickchart(key) {\n",
              "      const quickchartButtonEl =\n",
              "        document.querySelector('#' + key + ' button');\n",
              "      quickchartButtonEl.disabled = true;  // To prevent multiple clicks.\n",
              "      quickchartButtonEl.classList.add('colab-df-spinner');\n",
              "      try {\n",
              "        const charts = await google.colab.kernel.invokeFunction(\n",
              "            'suggestCharts', [key], {});\n",
              "      } catch (error) {\n",
              "        console.error('Error during call to suggestCharts:', error);\n",
              "      }\n",
              "      quickchartButtonEl.classList.remove('colab-df-spinner');\n",
              "      quickchartButtonEl.classList.add('colab-df-quickchart-complete');\n",
              "    }\n",
              "    (() => {\n",
              "      let quickchartButtonEl =\n",
              "        document.querySelector('#df-4c1bfa80-df84-4c00-aa65-ac427332d2a1 button');\n",
              "      quickchartButtonEl.style.display =\n",
              "        google.colab.kernel.accessAllowed ? 'block' : 'none';\n",
              "    })();\n",
              "  </script>\n",
              "</div>\n",
              "    </div>\n",
              "  </div>\n"
            ]
          },
          "metadata": {},
          "execution_count": 5
        }
      ],
      "source": [
        "all_data.head(5)"
      ]
    },
    {
      "cell_type": "code",
      "execution_count": null,
      "metadata": {
        "_cell_guid": "b24451a1-fb8c-4094-ad0b-0940469d07fc",
        "_execution_state": "idle",
        "_uuid": "687813c270cbfdedccc7a9e4ec9fbb78a99d54ed",
        "collapsed": true,
        "colab": {
          "base_uri": "https://localhost:8080/"
        },
        "id": "gsYksKD2mgfh",
        "outputId": "4d9e0905-25c6-4cee-ed6a-794ac77131fb"
      },
      "outputs": [
        {
          "output_type": "stream",
          "name": "stdout",
          "text": [
            "Cantidad de filas y columnas del conjunto de datos:  (2919, 81)\n"
          ]
        }
      ],
      "source": [
        "print(\"Cantidad de filas y columnas del conjunto de datos: \", all_data.shape)"
      ]
    },
    {
      "cell_type": "code",
      "source": [
        "all_data.isnull().sum().sort_values().plot.bar(figsize=(18, 5));"
      ],
      "metadata": {
        "colab": {
          "base_uri": "https://localhost:8080/",
          "height": 430
        },
        "id": "pXk0kxnrOg_l",
        "outputId": "ea45519f-be52-4325-87b2-6e7b9fe6b6ba"
      },
      "execution_count": null,
      "outputs": [
        {
          "output_type": "display_data",
          "data": {
            "text/plain": [
              "<Figure size 1800x500 with 1 Axes>"
            ],
            "image/png": "[encoded data removed]"
          },
          "metadata": {}
        }
      ]
    },
    {
      "cell_type": "markdown",
      "metadata": {
        "_cell_guid": "7d5829c4-b2f1-4ef3-8b02-11f02eb7aabf",
        "_execution_state": "idle",
        "_uuid": "228cb602f1c7a47d3c5250514cab57f7e7bc75e5",
        "id": "D4SSWIxhmgfi"
      },
      "source": [
        "#Análisis de outliers"
      ]
    },
    {
      "cell_type": "code",
      "execution_count": null,
      "metadata": {
        "_cell_guid": "637bd0fd-7508-41d1-b240-ea0e8598dddf",
        "_execution_state": "idle",
        "_uuid": "8903aa1a4a700aa2160edb3baf806f3800ae7d9a",
        "collapsed": true,
        "colab": {
          "base_uri": "https://localhost:8080/",
          "height": 453
        },
        "id": "McF76W31mgfj",
        "outputId": "b44a912d-2bb9-4a17-dd79-9c07236a307a"
      },
      "outputs": [
        {
          "output_type": "display_data",
          "data": {
            "text/plain": [
              "<Figure size 640x480 with 1 Axes>"
            ],
            "image/png": "[encoded data removed]"
          },
          "metadata": {}
        }
      ],
      "source": [
        "fig, ax = plt.subplots()\n",
        "ax.scatter(x = all_data['GrLivArea'], y = all_data['SalePrice'])\n",
        "plt.ylabel('SalePrice', fontsize=13)\n",
        "plt.xlabel('GrLivArea', fontsize=13)\n",
        "plt.show()"
      ]
    },
    {
      "cell_type": "markdown",
      "metadata": {
        "_cell_guid": "30304b82-5846-4142-bc31-b629158fb040",
        "_execution_state": "idle",
        "_uuid": "edf186dc5169e450392ee8f809cc3de5d10d7dbd",
        "id": "fdFbbESwmgfj"
      },
      "source": [
        "Podemos ver en la parte inferior derecha dos con GrLivArea extremadamente grande y de bajo precio. Estos valores son outliers."
      ]
    },
    {
      "cell_type": "markdown",
      "metadata": {
        "_cell_guid": "f4dcb348-634e-4010-b0a1-27976a1d8353",
        "_execution_state": "idle",
        "_uuid": "886ad7c816f4c1fd9afda53b10990baf987e86d8",
        "id": "xSLCmbX0mgfk"
      },
      "source": [
        "##Variable de salida"
      ]
    },
    {
      "cell_type": "code",
      "execution_count": null,
      "metadata": {
        "_cell_guid": "a17ad845-6fca-4d47-8e44-7c4c44f0427d",
        "_execution_state": "idle",
        "_uuid": "be3b0157031685ed3dbc31a657ba712312691830",
        "collapsed": true,
        "colab": {
          "base_uri": "https://localhost:8080/",
          "height": 506
        },
        "id": "WQi6erQImgfk",
        "outputId": "aa2605d9-9b7b-4061-b444-b30a27e7d76c"
      },
      "outputs": [
        {
          "output_type": "display_data",
          "data": {
            "text/plain": [
              "<Figure size 500x500 with 1 Axes>"
            ],
            "image/png": "[encoded data removed]"
          },
          "metadata": {}
        }
      ],
      "source": [
        "sns.displot(train, x='SalePrice', kde=True);"
      ]
    },
    {
      "cell_type": "markdown",
      "source": [
        "### Análisis entre la variable de salida y algunas variables de entrada"
      ],
      "metadata": {
        "id": "GNWf3_FUHoL-"
      }
    },
    {
      "cell_type": "markdown",
      "source": [
        "#### Calidad de la construcción"
      ],
      "metadata": {
        "id": "NcxH4UvrIDrG"
      }
    },
    {
      "cell_type": "code",
      "source": [
        "#box plot overallqual/saleprice\n",
        "var = 'OverallQual'\n",
        "data = pd.concat([train['SalePrice'], train[var]], axis=1)\n",
        "f, ax = plt.subplots(figsize=(8, 6))\n",
        "fig = sns.boxplot(x=var, y=\"SalePrice\", data=data)\n",
        "fig.axis(ymin=0, ymax=800000);"
      ],
      "metadata": {
        "colab": {
          "base_uri": "https://localhost:8080/",
          "height": 547
        },
        "id": "6xgbrfrdHnBc",
        "outputId": "8385dfa2-a108-400f-c10f-35d33a30d811"
      },
      "execution_count": null,
      "outputs": [
        {
          "output_type": "display_data",
          "data": {
            "text/plain": [
              "<Figure size 800x600 with 1 Axes>"
            ],
            "image/png": "[encoded data removed]"
          },
          "metadata": {}
        }
      ]
    },
    {
      "cell_type": "markdown",
      "source": [
        "#### Año de la construcción"
      ],
      "metadata": {
        "id": "moiQGTJoIGZt"
      }
    },
    {
      "cell_type": "code",
      "source": [
        "binned_values = pd.cut(train['YearBuilt'].astype(int), 10).to_frame()\n",
        "binned_values['SalePrice'] = train.SalePrice\n",
        "f, ax = plt.subplots(figsize=(8, 6))\n",
        "fig = sns.boxplot(x='YearBuilt', y=\"SalePrice\", data=binned_values)\n",
        "fig.axis(ymin=0, ymax=800000);\n",
        "fig.set_xticklabels(fig.get_xticklabels(), rotation=45);"
      ],
      "metadata": {
        "colab": {
          "base_uri": "https://localhost:8080/",
          "height": 638
        },
        "id": "U9IetK--JXdL",
        "outputId": "8438cd03-1312-489b-dfcd-45654f27ff12"
      },
      "execution_count": null,
      "outputs": [
        {
          "output_type": "display_data",
          "data": {
            "text/plain": [
              "<Figure size 800x600 with 1 Axes>"
            ],
            "image/png": "[encoded data removed]"
          },
          "metadata": {}
        }
      ]
    },
    {
      "cell_type": "markdown",
      "metadata": {
        "_cell_guid": "9ce95008-a3b9-43fa-bc4e-649ca0f43768",
        "_execution_state": "idle",
        "_uuid": "abe25f3032a0bed179d58d5911cb42d97b35841b",
        "id": "XT8RneyPmgfm"
      },
      "source": [
        "###Correlación entre variables"
      ]
    },
    {
      "cell_type": "code",
      "execution_count": null,
      "metadata": {
        "_cell_guid": "501b465f-8c80-4b93-81d0-a5d41e08d235",
        "_execution_state": "idle",
        "_uuid": "f97d25548ec8f6c02e2d1ee5a6df6c3d107fdf53",
        "collapsed": true,
        "colab": {
          "base_uri": "https://localhost:8080/",
          "height": 1000
        },
        "id": "QjfspuJvmgfm",
        "outputId": "d028fb64-850a-4ba3-e3eb-fa3e361f2f58"
      },
      "outputs": [
        {
          "output_type": "execute_result",
          "data": {
            "text/plain": [
              "<Axes: >"
            ]
          },
          "metadata": {},
          "execution_count": 12
        },
        {
          "output_type": "display_data",
          "data": {
            "text/plain": [
              "<Figure size 1200x1200 with 2 Axes>"
            ],
            "image/png": "[encoded data removed]"
          },
          "metadata": {}
        }
      ],
      "source": [
        "fig, ax = plt.subplots(figsize=(12,12))\n",
        "corr = all_data.select_dtypes('number').corr()\n",
        "sns.heatmap(corr, square=True, ax=ax)"
      ]
    },
    {
      "cell_type": "markdown",
      "metadata": {
        "_cell_guid": "cd681698-02d2-473e-bfc8-2d98a1353a18",
        "_execution_state": "idle",
        "_uuid": "41a6b40f8f03212a624f54167cad456a9f193f93",
        "id": "xW9DGJ_Dmgfm"
      },
      "source": [
        "###Imputación de valores faltantes"
      ]
    },
    {
      "cell_type": "markdown",
      "metadata": {
        "_cell_guid": "6f7d94ef-5ffb-4e1b-b1a2-a917cce3f357",
        "_execution_state": "idle",
        "_uuid": "d6d054aff0098e4e602ef618e0a4d3706d71dd66",
        "id": "VJ_8NrsAmgfn"
      },
      "source": [
        "- **PoolQC** : La descripción de los datos dice que NA significa \"Sin grupo\". Esto tiene sentido, dada la enorme proporción de valores faltantes (+99%), y la mayoría de las casas en general no tienen pileta."
      ]
    },
    {
      "cell_type": "code",
      "execution_count": null,
      "metadata": {
        "_cell_guid": "ca8a04eb-f42b-4c26-a690-bb98c95c6118",
        "_execution_state": "idle",
        "_uuid": "1d94b062f7683d711d479e48530009040185fd4c",
        "collapsed": true,
        "id": "uJQOFfEtmgfn"
      },
      "outputs": [],
      "source": [
        "all_data[\"PoolQC\"] = all_data[\"PoolQC\"].fillna(\"None\")"
      ]
    },
    {
      "cell_type": "markdown",
      "metadata": {
        "_cell_guid": "ea3aecb9-b2e8-4cdc-853d-999f8e2f789c",
        "_execution_state": "idle",
        "_uuid": "0516efe507d7176591f6af3d503312db5038949a",
        "id": "57nq0BPdmgfn"
      },
      "source": [
        "- **MiscFeature** : La descripción de los datos dice que NA significa \"sin características misceláneas\".\n"
      ]
    },
    {
      "cell_type": "code",
      "execution_count": null,
      "metadata": {
        "_cell_guid": "689863b8-4e4e-45d7-9972-8894e8defbe2",
        "_execution_state": "idle",
        "_uuid": "c311993a26d66d66ce82584a3e00d7ed56a3ea5a",
        "collapsed": true,
        "id": "AyxOm8Upmgfn"
      },
      "outputs": [],
      "source": [
        "all_data[\"MiscFeature\"] = all_data[\"MiscFeature\"].fillna(\"None\")"
      ]
    },
    {
      "cell_type": "markdown",
      "metadata": {
        "_cell_guid": "d467b9e0-0793-41e5-aaa1-d1686946ba9f",
        "_execution_state": "idle",
        "_uuid": "44cfbd9eecce5e4f2bc91a72ed095270e6010f57",
        "id": "ymz7NA9xmgfn"
      },
      "source": [
        "- **Alley** : La descripción de los datos dice que NA significa \"sin acceso a callejones\"."
      ]
    },
    {
      "cell_type": "code",
      "execution_count": null,
      "metadata": {
        "_cell_guid": "0f822e30-09f3-45f8-b09e-0ffed4ff985c",
        "_execution_state": "idle",
        "_uuid": "35709caf5cb2b0220cd9043f76462a116de15059",
        "collapsed": true,
        "id": "VSHWSN-lmgfo"
      },
      "outputs": [],
      "source": [
        "all_data[\"Alley\"] = all_data[\"Alley\"].fillna(\"None\")"
      ]
    },
    {
      "cell_type": "markdown",
      "metadata": {
        "_cell_guid": "0bab3349-eddb-4977-acd5-8dad4553ff7f",
        "_execution_state": "idle",
        "_uuid": "3265fc176140dbf1b641e18f2d57b91554c85771",
        "id": "hfkyoMyPmgfp"
      },
      "source": [
        "- **Fence** : La descripción de los datos dice que NA significa \"sin cerco\"."
      ]
    },
    {
      "cell_type": "code",
      "execution_count": null,
      "metadata": {
        "_cell_guid": "c0d6e4f4-df14-467f-bab2-86bfd0493a35",
        "_execution_state": "idle",
        "_uuid": "6d9d6998298a7fea5677f0916bcc9f33dc99e231",
        "collapsed": true,
        "id": "H6DYTiz6mgfp"
      },
      "outputs": [],
      "source": [
        "all_data[\"Fence\"] = all_data[\"Fence\"].fillna(\"None\")"
      ]
    },
    {
      "cell_type": "markdown",
      "metadata": {
        "_cell_guid": "49747765-81f1-4b23-ad63-534c7fe48b7a",
        "_execution_state": "idle",
        "_uuid": "4869889d4b2b118bc6dcef239cbc27546a7b445e",
        "id": "ly8G4xaLmgfp"
      },
      "source": [
        "- **FireplaceQu** : La descripción de los datos dice que NA significa \"sin chimenea\"."
      ]
    },
    {
      "cell_type": "code",
      "execution_count": null,
      "metadata": {
        "_cell_guid": "22b88c5b-6419-424f-9805-2c2b11e85dca",
        "_execution_state": "idle",
        "_uuid": "fb8cdb59e4ecba1f7ec78eb3b34c7209c34b1c86",
        "collapsed": true,
        "id": "AhIwBjLkmgfp"
      },
      "outputs": [],
      "source": [
        "all_data[\"FireplaceQu\"] = all_data[\"FireplaceQu\"].fillna(\"None\")"
      ]
    },
    {
      "cell_type": "markdown",
      "metadata": {
        "_cell_guid": "357994d1-974a-49ee-98e4-a19bc524fcb6",
        "_execution_state": "idle",
        "_uuid": "2b00af603b7dbc9114e62c421b2b886154d31959",
        "id": "_0hDqzWvmgfp"
      },
      "source": [
        "- **LotFrontage** : Dado que el área de cada calle conectada a la propiedad de la casa probablemente tenga un área similar a otras casas en su barrio, podemos completar los valores faltantes con la mediana del frente de lote del barrio."
      ]
    },
    {
      "cell_type": "code",
      "execution_count": null,
      "metadata": {
        "_cell_guid": "b8cd4872-67c6-4c82-a1a3-807d08efb658",
        "_execution_state": "idle",
        "_uuid": "56c268a7217e85301d2847ceeca410d62e781b89",
        "collapsed": true,
        "id": "Z-C7aeQWmgfp"
      },
      "outputs": [],
      "source": [
        "#Group by neighborhood and fill in missing value by the median LotFrontage of all the neighborhood\n",
        "all_data[\"LotFrontage\"] = all_data.groupby(\"Neighborhood\")[\"LotFrontage\"].transform(\n",
        "    lambda x: x.fillna(x.median()))"
      ]
    },
    {
      "cell_type": "markdown",
      "metadata": {
        "_cell_guid": "c0432c37-f664-4da1-a4d8-87a7cb450bd1",
        "_execution_state": "idle",
        "_uuid": "53712c1d6c7cf2945c6ba8b537171ea6b84f085e",
        "id": "loF7NUIvmgfp"
      },
      "source": [
        "- **GarageType, GarageFinish, GarageQual and GarageCond** : Reemplazar datos faltantes con None."
      ]
    },
    {
      "cell_type": "code",
      "execution_count": null,
      "metadata": {
        "_cell_guid": "f264979e-f5e2-4aae-b313-7468570c0294",
        "_execution_state": "idle",
        "_uuid": "d556da5418394ed50d3c14bd02668714cee0fb4a",
        "collapsed": true,
        "id": "2Pekqv8Bmgfp"
      },
      "outputs": [],
      "source": [
        "for col in ('GarageType', 'GarageFinish', 'GarageQual', 'GarageCond'):\n",
        "    all_data[col] = all_data[col].fillna('None')"
      ]
    },
    {
      "cell_type": "markdown",
      "metadata": {
        "_cell_guid": "92173e82-fd12-4fa0-b7dd-f66fb7b0be3b",
        "_execution_state": "idle",
        "_uuid": "b38ea3ec1c4b8fa4b31e8f86f378798319c05a71",
        "id": "pBAKJTyzmgfq"
      },
      "source": [
        "- **GarageYrBlt, GarageArea and GarageCars** : Reemplazar los datos faltantes con 0 (ya que Sin garage = no hay automóviles en dicho garage)."
      ]
    },
    {
      "cell_type": "code",
      "execution_count": null,
      "metadata": {
        "_cell_guid": "ada7acfa-8bc3-4d52-9f42-28a78cefc950",
        "_execution_state": "idle",
        "_uuid": "2726cce29df2a2621c54c4c8a06eb570a7191552",
        "collapsed": true,
        "id": "5Z3sNwe_mgfq"
      },
      "outputs": [],
      "source": [
        "for col in ('GarageYrBlt', 'GarageArea', 'GarageCars'):\n",
        "    all_data[col] = all_data[col].fillna(0)"
      ]
    },
    {
      "cell_type": "markdown",
      "metadata": {
        "_cell_guid": "b9f955c5-4e03-4835-8df7-1284120453ff",
        "_execution_state": "idle",
        "_uuid": "1729c36d95461d03679eb95e18eaac3d37aeb076",
        "id": "LzbAd_a4mgfq"
      },
      "source": [
        "- **BsmtFinSF1, BsmtFinSF2, BsmtUnfSF, TotalBsmtSF, BsmtFullBath and BsmtHalfBath** : los valores faltantes probablemente sean cero por no tener sótano."
      ]
    },
    {
      "cell_type": "code",
      "execution_count": null,
      "metadata": {
        "_cell_guid": "dd9e7ef7-3cee-437a-9a33-20987e238425",
        "_execution_state": "idle",
        "_uuid": "3008a6bd07ed883ff92a83ebe390940a24010fcb",
        "collapsed": true,
        "id": "B4Blm97Pmgfq"
      },
      "outputs": [],
      "source": [
        "for col in ('BsmtFinSF1', 'BsmtFinSF2', 'BsmtUnfSF','TotalBsmtSF', 'BsmtFullBath', 'BsmtHalfBath'):\n",
        "    all_data[col] = all_data[col].fillna(0)"
      ]
    },
    {
      "cell_type": "markdown",
      "metadata": {
        "_cell_guid": "441b397e-c527-4bd5-8d3c-df6aeba72192",
        "_execution_state": "idle",
        "_uuid": "d4ed0fcea9f8bb309118ba2fb703431e386c6cbd",
        "id": "asxvl2Dzmgfq"
      },
      "source": [
        "- **BsmtQual, BsmtCond, BsmtExposure, BsmtFinType1 and BsmtFinType2** : Para todas estas características categóricas relacionadas con el sótano, NA significa que no hay sótano.\n"
      ]
    },
    {
      "cell_type": "code",
      "execution_count": null,
      "metadata": {
        "_cell_guid": "6d7aa4f6-41b9-4f27-acb0-8af6aca2c8ff",
        "_execution_state": "idle",
        "_uuid": "ee281d3c691a50795e93bb797603c697d320b286",
        "collapsed": true,
        "id": "gB7YUO6Fmgfq"
      },
      "outputs": [],
      "source": [
        "for col in ('BsmtQual', 'BsmtCond', 'BsmtExposure', 'BsmtFinType1', 'BsmtFinType2'):\n",
        "    all_data[col] = all_data[col].fillna('None')"
      ]
    },
    {
      "cell_type": "markdown",
      "metadata": {
        "_cell_guid": "e7f2515f-8438-4075-9d22-0b37c1a2ef01",
        "_execution_state": "idle",
        "_uuid": "556165bc959cd6ff2354cb774341ac947d052f6a",
        "id": "rI6L2I4bmgfq"
      },
      "source": [
        "- **MasVnrArea and MasVnrType** : Lo más probable es que NA signifique que estas casas no tienen revestimiento de mampostería. Podemos completar 0 para el área y None para el tipo."
      ]
    },
    {
      "cell_type": "code",
      "execution_count": null,
      "metadata": {
        "_cell_guid": "63a3a030-482f-4292-a887-16880f7a2882",
        "_execution_state": "idle",
        "_uuid": "800ff604bb70023baf1d403b53b674b765d9047c",
        "collapsed": true,
        "id": "TUrVIphhmgfr"
      },
      "outputs": [],
      "source": [
        "all_data[\"MasVnrType\"] = all_data[\"MasVnrType\"].fillna(\"None\")\n",
        "all_data[\"MasVnrArea\"] = all_data[\"MasVnrArea\"].fillna(0)"
      ]
    },
    {
      "cell_type": "markdown",
      "metadata": {
        "_cell_guid": "f2f7f337-de24-44ec-93a6-09428ec9a252",
        "_execution_state": "idle",
        "_uuid": "ded1f7ea0443654bd033eeed1361056f820a925b",
        "id": "H25rI4Drmgfr"
      },
      "source": [
        "- **MSZoning (The general zoning classification)** :  'RL' es el valor más común. Podemos completar los valores faltantes con 'RL'.\n"
      ]
    },
    {
      "cell_type": "code",
      "execution_count": null,
      "metadata": {
        "_cell_guid": "0e4f28b5-784c-4369-92f4-bda15fa55172",
        "_execution_state": "idle",
        "_uuid": "ca93ce9b34c853c1bb11d837eaff6c2986234757",
        "collapsed": true,
        "id": "5_tkLVBlmgfr"
      },
      "outputs": [],
      "source": [
        "all_data['MSZoning'] = all_data['MSZoning'].fillna(all_data['MSZoning'].mode()[0])"
      ]
    },
    {
      "cell_type": "markdown",
      "metadata": {
        "_cell_guid": "99310a4b-9dbf-4273-81b5-94bf0adf338c",
        "_execution_state": "idle",
        "_uuid": "de39073aef3db7d13894fa82285eff803d6e5c1b",
        "id": "0e_4NBHLmgfr"
      },
      "source": [
        "- **Utilities** : Para esta variable categórica, todos los registros son \"AllPub\", excepto uno \"NoSeWa\" y 2 NA. Dado que la casa con 'NoSewa' está en el conjunto de entrenamiento, esta característica no ayudará en el modelado predictivo. Se puede eliminar de forma segura."
      ]
    },
    {
      "cell_type": "code",
      "execution_count": null,
      "metadata": {
        "_cell_guid": "facec65d-945f-4be1-86c8-1be011cc2bd0",
        "_execution_state": "idle",
        "_uuid": "de8ee2aca9eb3eeed7442cd9d12843cc64746708",
        "collapsed": true,
        "id": "FxCruLkemgfr"
      },
      "outputs": [],
      "source": [
        "all_data = all_data.drop(['Utilities'], axis=1)"
      ]
    },
    {
      "cell_type": "markdown",
      "metadata": {
        "_cell_guid": "c6aabfcd-4a1d-4845-88a1-b2f5cb7d8901",
        "_execution_state": "idle",
        "_uuid": "3450d048089ba8ff98807c6ae3b745b0a34165f9",
        "id": "oKX8_ByEmgfr"
      },
      "source": [
        "- **Functional** : la descripción de los datos dice NA significa típico."
      ]
    },
    {
      "cell_type": "code",
      "execution_count": null,
      "metadata": {
        "_cell_guid": "c968aa5e-c34f-442e-9388-69e074a2c84e",
        "_execution_state": "idle",
        "_uuid": "e2d331e991fa868320b5d089f61c58b54ce7cb37",
        "collapsed": true,
        "id": "58nIKLmgmgfr"
      },
      "outputs": [],
      "source": [
        "all_data[\"Functional\"] = all_data[\"Functional\"].fillna(\"Typ\")"
      ]
    },
    {
      "cell_type": "markdown",
      "metadata": {
        "_cell_guid": "4f2bad4d-8db8-4ac3-8991-ffa2c775a72d",
        "_execution_state": "idle",
        "_uuid": "c122f5b5596bc4ce615c6b620b7e1824a54a47b8",
        "id": "l6gr58VRmgfr"
      },
      "source": [
        "- **Electrical** : Tiene un solo valor NA. Dado que esta característica tiene principalmente 'SBrkr', podemos usarlo para completar el valor faltante."
      ]
    },
    {
      "cell_type": "code",
      "execution_count": null,
      "metadata": {
        "_cell_guid": "d93eab84-7759-4201-bd7d-d450399478f7",
        "_execution_state": "idle",
        "_uuid": "d31761ee8878ce4143cf21adde149cd622c5a039",
        "collapsed": true,
        "id": "g3NtVRdcmgfs"
      },
      "outputs": [],
      "source": [
        "all_data['Electrical'] = all_data['Electrical'].fillna(all_data['Electrical'].mode()[0])"
      ]
    },
    {
      "cell_type": "markdown",
      "metadata": {
        "_cell_guid": "3d089b8e-3392-4067-a5a1-4f6d4e3e8fb5",
        "_execution_state": "idle",
        "_uuid": "8e0fd54a802f1eddfec0aa4104412c19e1c266d0",
        "id": "WC7dMAYrmgfs"
      },
      "source": [
        "- **KitchenQual**: Solo un valor NA, y al igual que Eléctrico, usamos 'TA' (que es el más frecuente) para el valor faltante.\n"
      ]
    },
    {
      "cell_type": "code",
      "execution_count": null,
      "metadata": {
        "_cell_guid": "9f68e47a-5b50-436f-9e31-ff65a1cb1687",
        "_execution_state": "idle",
        "_uuid": "23071ddb69b67b1d742bb15d260421d57aed5583",
        "collapsed": true,
        "id": "cVoOB5nvmgfs"
      },
      "outputs": [],
      "source": [
        "all_data['KitchenQual'] = all_data['KitchenQual'].fillna(all_data['KitchenQual'].mode()[0])"
      ]
    },
    {
      "cell_type": "markdown",
      "metadata": {
        "_cell_guid": "e32aec7d-2841-4bfc-a6d2-d181000af4b8",
        "_execution_state": "idle",
        "_uuid": "e8aca612daf293e7228eed9647370036d003e0fb",
        "id": "bTGDolHAmgfs"
      },
      "source": [
        "- **Exterior1st and Exterior2nd** : Nuevamente, solo falta un valor. Simplemente sustituiremos con el valor más común.\n"
      ]
    },
    {
      "cell_type": "code",
      "execution_count": null,
      "metadata": {
        "_cell_guid": "85903feb-7fdb-4911-9a6a-f29629bbf308",
        "_execution_state": "idle",
        "_uuid": "6375e9c7c145e0f2832cbe03addbce3d90cb44c4",
        "collapsed": true,
        "id": "z8fBSMTvmgfs"
      },
      "outputs": [],
      "source": [
        "all_data['Exterior1st'] = all_data['Exterior1st'].fillna(all_data['Exterior1st'].mode()[0])\n",
        "all_data['Exterior2nd'] = all_data['Exterior2nd'].fillna(all_data['Exterior2nd'].mode()[0])"
      ]
    },
    {
      "cell_type": "markdown",
      "metadata": {
        "_cell_guid": "b87d629d-6820-4f3e-80f3-efc16436b982",
        "_execution_state": "idle",
        "_uuid": "67f41f0ad648d536d70e2ccb617a4b495fb7f782",
        "id": "UcZFWlGemgfs"
      },
      "source": [
        "- **SaleType** : Complete nuevamente con el más frecuente, que es \"WD\"."
      ]
    },
    {
      "cell_type": "code",
      "execution_count": null,
      "metadata": {
        "_cell_guid": "aaa407ac-ad4a-4313-8530-ac96826be6e5",
        "_execution_state": "idle",
        "_uuid": "06c104efedaf57a4052c8f61c502cb6313e0beea",
        "collapsed": true,
        "id": "9xiJSsXJmgfs"
      },
      "outputs": [],
      "source": [
        "all_data['SaleType'] = all_data['SaleType'].fillna(all_data['SaleType'].mode()[0])"
      ]
    },
    {
      "cell_type": "markdown",
      "metadata": {
        "_cell_guid": "8ddca94e-7cfa-4f25-9333-29e013c9c30d",
        "_execution_state": "idle",
        "_uuid": "8a3a35f5dc00732929143480a8a0b34a2a502c27",
        "id": "GUc8wZHMmgft"
      },
      "source": [
        "- **MSSubClass** : Lo más probable es que NA significa Sin clase de construcción. Podemos reemplazar los valores faltantes con None.\n"
      ]
    },
    {
      "cell_type": "code",
      "execution_count": null,
      "metadata": {
        "_cell_guid": "23dedd0c-7d5e-4870-8588-8bc4890f627b",
        "_execution_state": "idle",
        "_uuid": "9608a2eada6013e7f14e9341862cca0dca4621e9",
        "collapsed": true,
        "id": "HbXbScFDmgft"
      },
      "outputs": [],
      "source": [
        "all_data['MSSubClass'] = all_data['MSSubClass'].fillna(\"None\")"
      ]
    },
    {
      "cell_type": "markdown",
      "source": [
        "Hay más valores nulos?"
      ],
      "metadata": {
        "id": "BIN5lHr_SZDu"
      }
    },
    {
      "cell_type": "code",
      "execution_count": null,
      "metadata": {
        "_cell_guid": "0adf05cf-ce60-4169-805c-ca776e60e85a",
        "_execution_state": "idle",
        "_uuid": "b091fa2ebef19425019e2e550410d0376b9e9fac",
        "collapsed": true,
        "colab": {
          "base_uri": "https://localhost:8080/",
          "height": 80
        },
        "id": "9pYDGbAQmgft",
        "outputId": "c769e2dc-ae03-4387-e58c-2a49e6b741df"
      },
      "outputs": [
        {
          "output_type": "execute_result",
          "data": {
            "text/plain": [
              "           Missing Ratio\n",
              "SalePrice         49.983"
            ],
            "text/html": [
              "\n",
              "  <div id=\"df-21cfb675-b84c-4e84-9ce9-28987c08446a\" class=\"colab-df-container\">\n",
              "    <div>\n",
              "<style scoped>\n",
              "    .dataframe tbody tr th:only-of-type {\n",
              "        vertical-align: middle;\n",
              "    }\n",
              "\n",
              "    .dataframe tbody tr th {\n",
              "        vertical-align: top;\n",
              "    }\n",
              "\n",
              "    .dataframe thead th {\n",
              "        text-align: right;\n",
              "    }\n",
              "</style>\n",
              "<table border=\"1\" class=\"dataframe\">\n",
              "  <thead>\n",
              "    <tr style=\"text-align: right;\">\n",
              "      <th></th>\n",
              "      <th>Missing Ratio</th>\n",
              "    </tr>\n",
              "  </thead>\n",
              "  <tbody>\n",
              "    <tr>\n",
              "      <th>SalePrice</th>\n",
              "      <td>49.983</td>\n",
              "    </tr>\n",
              "  </tbody>\n",
              "</table>\n",
              "</div>\n",
              "    <div class=\"colab-df-buttons\">\n",
              "\n",
              "  <div class=\"colab-df-container\">\n",
              "    <button class=\"colab-df-convert\" onclick=\"convertToInteractive('df-21cfb675-b84c-4e84-9ce9-28987c08446a')\"\n",
              "            title=\"Convert this dataframe to an interactive table.\"\n",
              "            style=\"display:none;\">\n",
              "\n",
              "  <svg xmlns=\"http://www.w3.org/2000/svg\" height=\"24px\" viewBox=\"0 -960 960 960\">\n",
              "    <path d=\"M120-120v-720h720v720H120Zm60-500h600v-160H180v160Zm220 220h160v-160H400v160Zm0 220h160v-160H400v160ZM180-400h160v-160H180v160Zm440 0h160v-160H620v160ZM180-180h160v-160H180v160Zm440 0h160v-160H620v160Z\"/>\n",
              "  </svg>\n",
              "    </button>\n",
              "\n",
              "  <style>\n",
              "    .colab-df-container {\n",
              "      display:flex;\n",
              "      gap: 12px;\n",
              "    }\n",
              "\n",
              "    .colab-df-convert {\n",
              "      background-color: #E8F0FE;\n",
              "      border: none;\n",
              "      border-radius: 50%;\n",
              "      cursor: pointer;\n",
              "      display: none;\n",
              "      fill: #1967D2;\n",
              "      height: 32px;\n",
              "      padding: 0 0 0 0;\n",
              "      width: 32px;\n",
              "    }\n",
              "\n",
              "    .colab-df-convert:hover {\n",
              "      background-color: #E2EBFA;\n",
              "      box-shadow: 0px 1px 2px rgba(60, 64, 67, 0.3), 0px 1px 3px 1px rgba(60, 64, 67, 0.15);\n",
              "      fill: #174EA6;\n",
              "    }\n",
              "\n",
              "    .colab-df-buttons div {\n",
              "      margin-bottom: 4px;\n",
              "    }\n",
              "\n",
              "    [theme=dark] .colab-df-convert {\n",
              "      background-color: #3B4455;\n",
              "      fill: #D2E3FC;\n",
              "    }\n",
              "\n",
              "    [theme=dark] .colab-df-convert:hover {\n",
              "      background-color: #434B5C;\n",
              "      box-shadow: 0px 1px 3px 1px rgba(0, 0, 0, 0.15);\n",
              "      filter: drop-shadow(0px 1px 2px rgba(0, 0, 0, 0.3));\n",
              "      fill: #FFFFFF;\n",
              "    }\n",
              "  </style>\n",
              "\n",
              "    <script>\n",
              "      const buttonEl =\n",
              "        document.querySelector('#df-21cfb675-b84c-4e84-9ce9-28987c08446a button.colab-df-convert');\n",
              "      buttonEl.style.display =\n",
              "        google.colab.kernel.accessAllowed ? 'block' : 'none';\n",
              "\n",
              "      async function convertToInteractive(key) {\n",
              "        const element = document.querySelector('#df-21cfb675-b84c-4e84-9ce9-28987c08446a');\n",
              "        const dataTable =\n",
              "          await google.colab.kernel.invokeFunction('convertToInteractive',\n",
              "                                                    [key], {});\n",
              "        if (!dataTable) return;\n",
              "\n",
              "        const docLinkHtml = 'Like what you see? Visit the ' +\n",
              "          '<a target=\"_blank\" href=https://colab.research.google.com/notebooks/data_table.ipynb>data table notebook</a>'\n",
              "          + ' to learn more about interactive tables.';\n",
              "        element.innerHTML = '';\n",
              "        dataTable['output_type'] = 'display_data';\n",
              "        await google.colab.output.renderOutput(dataTable, element);\n",
              "        const docLink = document.createElement('div');\n",
              "        docLink.innerHTML = docLinkHtml;\n",
              "        element.appendChild(docLink);\n",
              "      }\n",
              "    </script>\n",
              "  </div>\n",
              "\n",
              "    </div>\n",
              "  </div>\n"
            ]
          },
          "metadata": {},
          "execution_count": 32
        }
      ],
      "source": [
        "all_data_na = (all_data.isnull().sum() / len(all_data)) * 100\n",
        "all_data_na = all_data_na.drop(all_data_na[all_data_na == 0].index).sort_values(ascending=False)\n",
        "missing_data = pd.DataFrame({'Missing Ratio' :all_data_na})\n",
        "missing_data.head()"
      ]
    },
    {
      "cell_type": "markdown",
      "metadata": {
        "_cell_guid": "78266762-5180-44fa-a630-b808706800d4",
        "_execution_state": "idle",
        "_uuid": "360f518886ac45afe2963b9b53edb17c2be4a130",
        "id": "jCTLzwRzmgft"
      },
      "source": [
        "La variable a predecir tiene como valores faltantes los correspondientes al conjunto de test.\n"
      ]
    },
    {
      "cell_type": "markdown",
      "metadata": {
        "_cell_guid": "7996debf-c724-4365-9d63-f6104bae6140",
        "_execution_state": "idle",
        "_uuid": "915505b9c21b4dd84cc466660a68fb0d6b84cfae",
        "id": "WFkq2bSPmgft"
      },
      "source": [
        "###Algunas trasnformaciones sobre los datos"
      ]
    },
    {
      "cell_type": "markdown",
      "metadata": {
        "_cell_guid": "0d5076fa-b4ab-4787-bebb-8fd445b8815a",
        "_execution_state": "idle",
        "_uuid": "1cfcb671a97068569efb4e7855da91aa30c5bbde",
        "id": "b2k07trcmgfu"
      },
      "source": [
        "**Variables numéricas que son categóricas en realidad**"
      ]
    },
    {
      "cell_type": "code",
      "execution_count": null,
      "metadata": {
        "_cell_guid": "a52dc2f9-ca02-4024-987a-165ce630b356",
        "_execution_state": "idle",
        "_uuid": "cc7557817a4442e799e4e4c84dd1efd8bd08867a",
        "collapsed": true,
        "id": "vQYInT_Omgfu"
      },
      "outputs": [],
      "source": [
        "all_data['MSSubClass'] = all_data['MSSubClass'].apply(str)\n",
        "\n",
        "all_data['OverallCond'] = all_data['OverallCond'].astype(str)\n",
        "\n",
        "all_data['YrSold'] = all_data['YrSold'].astype(str)\n",
        "all_data['MoSold'] = all_data['MoSold'].astype(str)"
      ]
    },
    {
      "cell_type": "markdown",
      "metadata": {
        "_cell_guid": "9f80c0e7-3f3f-45c5-b111-e36f4e31e814",
        "_execution_state": "idle",
        "_uuid": "c4743ffb7fbb050edca7c77dc7cb6520577c1398",
        "id": "SgifooPGmgfu"
      },
      "source": [
        "**Aplicamos Label Encoding a algunas variables categóricas ordinales**"
      ]
    },
    {
      "cell_type": "code",
      "execution_count": null,
      "metadata": {
        "_cell_guid": "81c97efb-4f76-4e87-861a-10a60ab5c84b",
        "_execution_state": "idle",
        "_uuid": "fdb5ddf0a49a3c6df303c569c9f3509c79ac8b61",
        "collapsed": true,
        "colab": {
          "base_uri": "https://localhost:8080/"
        },
        "id": "TCYkRDDgmgfu",
        "outputId": "eddb059e-9bc9-4075-aaf0-0675b7827146"
      },
      "outputs": [
        {
          "output_type": "stream",
          "name": "stdout",
          "text": [
            "Shape all_data: (2919, 80)\n"
          ]
        }
      ],
      "source": [
        "from sklearn.preprocessing import LabelEncoder\n",
        "cols = ('FireplaceQu', 'BsmtQual', 'BsmtCond', 'GarageQual', 'GarageCond',\n",
        "        'ExterQual', 'ExterCond','HeatingQC', 'PoolQC', 'KitchenQual', 'BsmtFinType1',\n",
        "        'BsmtFinType2', 'Functional', 'Fence', 'BsmtExposure', 'GarageFinish', 'LandSlope',\n",
        "        'LotShape', 'PavedDrive', 'Street', 'Alley', 'CentralAir', 'MSSubClass', 'OverallCond',\n",
        "        'YrSold', 'MoSold')\n",
        "\n",
        "for c in cols:\n",
        "    lbl = LabelEncoder()\n",
        "    lbl.fit(list(all_data[c].values))\n",
        "    all_data[c] = lbl.transform(list(all_data[c].values))\n",
        "\n",
        "print('Shape all_data: {}'.format(all_data.shape))"
      ]
    },
    {
      "cell_type": "markdown",
      "metadata": {
        "_cell_guid": "a4879ef7-ab0d-4955-bc48-7ebcfa04b3bd",
        "_execution_state": "idle",
        "_uuid": "9976d6288bc183d443fbccc2bde439d5bc3a87b1",
        "id": "KvAXWa3dmgfw"
      },
      "source": [
        "**Calculamos una nueva variable en base a los datos disponibles, la cual se conoce que es importante para este tipo de problemas**"
      ]
    },
    {
      "cell_type": "markdown",
      "metadata": {
        "_cell_guid": "b9486529-a3d2-443d-8a90-6bfbc406583b",
        "_execution_state": "idle",
        "_uuid": "ab22a33cf69e8092b3c4ae0a80b1f5f31b67edbc",
        "id": "PXTtkEzpmgfw"
      },
      "source": [
        "Dado que las características relacionadas con el área son muy importantes para determinar los precios de las casas, agregamos una característica más que es el área total incluyendo sótano, primer y segundo piso de cada casa."
      ]
    },
    {
      "cell_type": "code",
      "execution_count": null,
      "metadata": {
        "_cell_guid": "fc1a8f1a-f003-4538-8e60-d819f46362a3",
        "_execution_state": "idle",
        "_uuid": "208f8d22188786227fff4a978dc3b11b4e1ffd90",
        "collapsed": true,
        "id": "HhKJ0tHlmgfw"
      },
      "outputs": [],
      "source": [
        "all_data['TotalSF'] = all_data['TotalBsmtSF'] + all_data['1stFlrSF'] + all_data['2ndFlrSF']"
      ]
    },
    {
      "cell_type": "markdown",
      "metadata": {
        "_cell_guid": "39639caf-31a4-4401-a663-0ba9536b39bf",
        "_execution_state": "idle",
        "_uuid": "5a13a6e2a3e48975de9129d1593bd38df44a1069",
        "id": "WztBwh1cmgfx"
      },
      "source": [
        "**Se aplica one hot encoding**"
      ]
    },
    {
      "cell_type": "code",
      "execution_count": null,
      "metadata": {
        "_cell_guid": "c8e63516-e4e2-4f36-a60e-1c8316392c60",
        "_execution_state": "idle",
        "_uuid": "acd44e283867425257ffd1fb2f4893cdbff43f67",
        "collapsed": true,
        "colab": {
          "base_uri": "https://localhost:8080/"
        },
        "id": "GH1SFGUVmgfx",
        "outputId": "d2ffd90a-db71-4bb8-d5a0-b798671d1053"
      },
      "outputs": [
        {
          "output_type": "stream",
          "name": "stdout",
          "text": [
            "(2919, 223)\n"
          ]
        }
      ],
      "source": [
        "all_data = pd.get_dummies(all_data)\n",
        "print(all_data.shape)"
      ]
    },
    {
      "cell_type": "markdown",
      "metadata": {
        "_cell_guid": "243cf047-c2ba-4ae5-a531-22ef9b7cfbfe",
        "_execution_state": "idle",
        "_uuid": "fe9d78c7e37142ee8089826eca3065e0fa5803c1",
        "id": "SZqjGb7Rmgfx"
      },
      "source": [
        "Getting the new train and test sets."
      ]
    },
    {
      "cell_type": "code",
      "execution_count": null,
      "metadata": {
        "_cell_guid": "0a75646f-1974-40ad-a085-ff7bc08454a5",
        "_execution_state": "idle",
        "_uuid": "89e464095544a53177d5a009b914ba4c660072a7",
        "collapsed": true,
        "id": "0Eo--40Imgfy"
      },
      "outputs": [],
      "source": [
        "train = all_data[all_data.SalePrice.notnull()]\n",
        "test = all_data[all_data.SalePrice.isnull()]\n"
      ]
    },
    {
      "cell_type": "markdown",
      "metadata": {
        "_cell_guid": "461af83d-a928-4645-8512-5e4dbcaf7be0",
        "_execution_state": "idle",
        "_uuid": "10aab4cee97832560e2627a490e01e80c0ffb814",
        "id": "Y-t7ObC3mgfy"
      },
      "source": [
        "#Modelado"
      ]
    },
    {
      "cell_type": "code",
      "execution_count": null,
      "metadata": {
        "_cell_guid": "135e8ac5-ce46-4a5f-b205-13f827ef33b8",
        "_execution_state": "idle",
        "_uuid": "fc664fbe27561a3697d0210921107b0e14b7d211",
        "collapsed": true,
        "id": "U2ttqX5nmgfy"
      },
      "outputs": [],
      "source": [
        "from sklearn.linear_model import ElasticNet, Lasso,  BayesianRidge, LassoLarsIC\n",
        "from sklearn.ensemble import RandomForestRegressor,  GradientBoostingRegressor\n",
        "from sklearn.kernel_ridge import KernelRidge\n",
        "from sklearn.pipeline import make_pipeline\n",
        "from sklearn.preprocessing import RobustScaler\n",
        "from sklearn.base import BaseEstimator, TransformerMixin, RegressorMixin, clone\n",
        "from sklearn.model_selection import KFold, cross_val_score, train_test_split\n",
        "from sklearn.metrics import mean_squared_error\n",
        "import xgboost as xgb\n",
        "import lightgbm as lgb"
      ]
    },
    {
      "cell_type": "markdown",
      "metadata": {
        "_cell_guid": "7aa6ebb9-27a7-4bd3-a7b2-4ddc6a0abbed",
        "_execution_state": "idle",
        "_uuid": "056b657c8f0de30d4708c600eabbb33684c64479",
        "id": "Cw1RvR2Wmgfy"
      },
      "source": [
        "**Se utiliza una estrategia de validación cruzada**"
      ]
    },
    {
      "cell_type": "markdown",
      "metadata": {
        "_cell_guid": "4a2b5181-44f2-4c74-b482-aae0f5afc25a",
        "_execution_state": "idle",
        "_uuid": "dc0d7a3013f349988b3f2c84a6c130d6ad350170",
        "id": "9d_UdnFImgfy"
      },
      "source": [
        "Usamos la función **cross_val_score** de Sklearn. Sin embargo, esta función no tiene un atributo de ordenamiento aleatoria, por lo que agregamos una línea de código para mezclar el conjunto de datos antes de la validación cruzada.\n",
        "\n",
        "La métrica a utilizar será neg_mean_squared_error debido a que permite verificar el grado de error del modelo con cada valor numérico esperado."
      ]
    },
    {
      "cell_type": "code",
      "execution_count": null,
      "metadata": {
        "_cell_guid": "f396260b-e182-4a87-9a2a-b92b9375ea6f",
        "_execution_state": "idle",
        "_uuid": "5c12551d092a6c5cf32d86398b054da7af3047b8",
        "collapsed": true,
        "id": "ldKcs_tYmgfz"
      },
      "outputs": [],
      "source": [
        "n_folds = 5\n",
        "\n",
        "def rmsle_cv(model):\n",
        "    kf = KFold(n_folds, shuffle=True, random_state=42).get_n_splits(train.values)\n",
        "    rmse= np.sqrt(-cross_val_score(model, train.values, y_train, scoring=\"neg_mean_squared_error\", cv = kf))\n",
        "    return(rmse)"
      ]
    },
    {
      "cell_type": "markdown",
      "metadata": {
        "_cell_guid": "42e1565e-77a1-41a7-ac31-893e405d34ad",
        "_execution_state": "busy",
        "_uuid": "643ae2c4a88576ebbd55824ce8e654486087a6e0",
        "id": "NKe_NIMNmgfz"
      },
      "source": [
        "##Modelos base"
      ]
    },
    {
      "cell_type": "markdown",
      "metadata": {
        "_cell_guid": "578f088d-1a84-41cb-b945-ec64800f2308",
        "_execution_state": "idle",
        "_uuid": "370125198a0cbbc9336cbf179f00a2ebb02cb063",
        "id": "_QIh5B2qmgfz"
      },
      "source": [
        "-  **LASSO  Regression**  :"
      ]
    },
    {
      "cell_type": "code",
      "execution_count": null,
      "metadata": {
        "_cell_guid": "03f45cb7-0a40-45ea-94e8-64fd7ff1e8f6",
        "_execution_state": "idle",
        "_uuid": "2a50c954cb771d350c3092c3658486ba4d22aba5",
        "collapsed": true,
        "id": "ld1HgLTymgf0"
      },
      "outputs": [],
      "source": [
        "lasso = Lasso(alpha =0.0005, random_state=1)"
      ]
    },
    {
      "cell_type": "markdown",
      "metadata": {
        "_cell_guid": "2c826f7b-ac66-421c-a7ae-29dfdd765bdb",
        "_execution_state": "idle",
        "_uuid": "30e9756cf63991715b48e8c53bc57906fc76f380",
        "id": "9DqdtK9Amgf0"
      },
      "source": [
        "- **Elastic Net Regression** :"
      ]
    },
    {
      "cell_type": "code",
      "execution_count": null,
      "metadata": {
        "_cell_guid": "e635cc7e-caeb-4f8b-ae78-c41f8eb0be59",
        "_execution_state": "idle",
        "_uuid": "b614cf1bdee86a3b1cbdde05298f9f7ae023799b",
        "collapsed": true,
        "id": "qLXeIRXGmgf0"
      },
      "outputs": [],
      "source": [
        "ENet = ElasticNet(alpha=0.0005, l1_ratio=.9, random_state=3)"
      ]
    },
    {
      "cell_type": "markdown",
      "metadata": {
        "_cell_guid": "7aae5316-4e32-4203-bff5-3b38c1f657c3",
        "_execution_state": "idle",
        "_uuid": "0775061bb477242f1332a048778e879ca540a216",
        "id": "CvvAzRplmgf1"
      },
      "source": [
        "- **Kernel Ridge Regression** :"
      ]
    },
    {
      "cell_type": "code",
      "execution_count": null,
      "metadata": {
        "_cell_guid": "805343d9-0af6-43a2-a351-c0b25c62fcf0",
        "_execution_state": "idle",
        "_uuid": "3199c83513d93407c818ce1ed43c6c52e7f5a8c6",
        "collapsed": true,
        "id": "9qxGMDK0mgf1"
      },
      "outputs": [],
      "source": [
        "KRR = KernelRidge(alpha=0.6, kernel='polynomial', degree=2, coef0=2.5)"
      ]
    },
    {
      "cell_type": "markdown",
      "metadata": {
        "_cell_guid": "5a66c27c-be80-4ec0-8953-eaeb2a7dd2e7",
        "_execution_state": "idle",
        "_uuid": "14b60a7e4296cccb39042c9c625a1480d59a01c1",
        "id": "4dFZs_rtmgf1"
      },
      "source": [
        "- **Gradient Boosting Regression** :"
      ]
    },
    {
      "cell_type": "code",
      "execution_count": null,
      "metadata": {
        "_cell_guid": "af13332c-fd37-40bb-a078-6bad6caaa2ab",
        "_execution_state": "idle",
        "_uuid": "9a983f0f62a0dde7689b20a8e52022bb189478b4",
        "collapsed": true,
        "id": "E0K8uGR_mgf1"
      },
      "outputs": [],
      "source": [
        "GBoost = GradientBoostingRegressor(n_estimators=3000, learning_rate=0.05,\n",
        "                                   max_depth=4, max_features='sqrt',\n",
        "                                   min_samples_leaf=15, min_samples_split=10,\n",
        "                                   loss='huber', random_state =5)"
      ]
    },
    {
      "cell_type": "markdown",
      "metadata": {
        "_cell_guid": "d44ac87e-bf01-440b-ab22-b2868eb6ae48",
        "_execution_state": "idle",
        "_uuid": "53d7991f7dd03fcd7fb5ab1ec26fcd0614d002d3",
        "id": "upDpfeakmgf2"
      },
      "source": [
        "- **XGBoost** :"
      ]
    },
    {
      "cell_type": "code",
      "execution_count": null,
      "metadata": {
        "_cell_guid": "ed738a4c-c246-443c-a3c1-39df25f988b7",
        "_execution_state": "idle",
        "_uuid": "57c24b596ceb46d6f32ebf9501d672d7e469c15b",
        "collapsed": true,
        "id": "viNihkU7mgf2"
      },
      "outputs": [],
      "source": [
        "model_xgb = xgb.XGBRegressor(colsample_bytree=0.4603, gamma=0.0468,\n",
        "                             learning_rate=0.05, max_depth=3,\n",
        "                             min_child_weight=1.7817, n_estimators=2200,\n",
        "                             reg_alpha=0.4640, reg_lambda=0.8571,\n",
        "                             subsample=0.5213, silent=1,\n",
        "                             random_state =7, nthread = -1)\n",
        "\n"
      ]
    },
    {
      "cell_type": "markdown",
      "metadata": {
        "_cell_guid": "a43ca74d-093c-4a56-a76c-b3223bf82fbc",
        "_execution_state": "idle",
        "_uuid": "460f3ccf7d5c33ea9f8a826bbf056d759e7b5119",
        "id": "CWU13w-_mgf2"
      },
      "source": [
        "- **LightGBM** :"
      ]
    },
    {
      "cell_type": "code",
      "execution_count": null,
      "metadata": {
        "_cell_guid": "dd84d7db-3f83-4e4e-b02f-7632ca5ee4ac",
        "_execution_state": "idle",
        "_uuid": "4c94cf90f0ef0d350c5e66f3bd397865bfcc61ae",
        "collapsed": true,
        "id": "_rpQsRvGmgf2"
      },
      "outputs": [],
      "source": [
        "model_lgb = lgb.LGBMRegressor(objective='regression',num_leaves=5,\n",
        "                              learning_rate=0.05, n_estimators=720,\n",
        "                              max_bin = 55, bagging_fraction = 0.8,\n",
        "                              bagging_freq = 5, feature_fraction = 0.2319,\n",
        "                              feature_fraction_seed=9, bagging_seed=9,\n",
        "                              min_data_in_leaf =6, min_sum_hessian_in_leaf = 11)"
      ]
    },
    {
      "cell_type": "markdown",
      "metadata": {
        "_cell_guid": "9e1eff6a-e937-45e4-96ef-41593e31e1bb",
        "_execution_state": "idle",
        "_uuid": "71bce529300e2f3d9f9f475d01bd7001258dbede",
        "id": "96l7cCEKmgf2"
      },
      "source": [
        "###Se verifican los resultados obtenidos por cada método"
      ]
    },
    {
      "cell_type": "code",
      "execution_count": null,
      "metadata": {
        "_cell_guid": "2d0cc958-1654-425c-90ed-1ceb9edd7186",
        "_execution_state": "idle",
        "_uuid": "7d994349237b9304b0d17719e1af077e69288229",
        "collapsed": true,
        "colab": {
          "base_uri": "https://localhost:8080/"
        },
        "id": "FeoZKqZpmgf2",
        "outputId": "11a00708-637e-4d45-8714-c8d0da36e99b"
      },
      "outputs": [
        {
          "output_type": "stream",
          "name": "stdout",
          "text": [
            "\n",
            "Lasso score: 75.3810 (13.8328)\n",
            "\n"
          ]
        }
      ],
      "source": [
        "score = rmsle_cv(lasso)\n",
        "print(\"\\nLasso score: {:.4f} ({:.4f})\\n\".format(score.mean(), score.std()))"
      ]
    },
    {
      "cell_type": "code",
      "execution_count": null,
      "metadata": {
        "_cell_guid": "7cf6faaf-d69a-4268-b192-a9e60d207c28",
        "_execution_state": "idle",
        "_uuid": "b6d299b9d4a0cdb23ddd8459b3935da2948016d6",
        "collapsed": true,
        "colab": {
          "base_uri": "https://localhost:8080/"
        },
        "id": "5GvKN5ocmgf3",
        "outputId": "3b4f7700-4d9d-474f-cdbc-f018046c8f06"
      },
      "outputs": [
        {
          "output_type": "stream",
          "name": "stdout",
          "text": [
            "ElasticNet score: 36.7039 (6.0316)\n",
            "\n"
          ]
        }
      ],
      "source": [
        "score = rmsle_cv(ENet)\n",
        "print(\"ElasticNet score: {:.4f} ({:.4f})\\n\".format(score.mean(), score.std()))"
      ]
    },
    {
      "cell_type": "code",
      "execution_count": null,
      "metadata": {
        "_cell_guid": "a1195106-2170-47f2-86a7-c4f3be683aa8",
        "_execution_state": "idle",
        "_uuid": "437dc093e88d661a369539520af1b4c37d1a0c1a",
        "collapsed": true,
        "colab": {
          "base_uri": "https://localhost:8080/"
        },
        "id": "K4vnAycHmgf3",
        "outputId": "223559fb-5bba-4fd3-825d-a21dc93d7a01"
      },
      "outputs": [
        {
          "output_type": "stream",
          "name": "stderr",
          "text": [
            "/usr/local/lib/python3.10/dist-packages/sklearn/linear_model/_ridge.py:255: UserWarning: Singular matrix in solving dual problem. Using least-squares solution instead.\n",
            "  warnings.warn(\n",
            "/usr/local/lib/python3.10/dist-packages/sklearn/linear_model/_ridge.py:255: UserWarning: Singular matrix in solving dual problem. Using least-squares solution instead.\n",
            "  warnings.warn(\n",
            "/usr/local/lib/python3.10/dist-packages/sklearn/linear_model/_ridge.py:255: UserWarning: Singular matrix in solving dual problem. Using least-squares solution instead.\n",
            "  warnings.warn(\n",
            "/usr/local/lib/python3.10/dist-packages/sklearn/linear_model/_ridge.py:255: UserWarning: Singular matrix in solving dual problem. Using least-squares solution instead.\n",
            "  warnings.warn(\n",
            "/usr/local/lib/python3.10/dist-packages/sklearn/linear_model/_ridge.py:255: UserWarning: Singular matrix in solving dual problem. Using least-squares solution instead.\n",
            "  warnings.warn(\n"
          ]
        },
        {
          "output_type": "stream",
          "name": "stdout",
          "text": [
            "Kernel Ridge score: 229.4371 (262.0050)\n",
            "\n"
          ]
        }
      ],
      "source": [
        "score = rmsle_cv(KRR)\n",
        "print(\"Kernel Ridge score: {:.4f} ({:.4f})\\n\".format(score.mean(), score.std()))"
      ]
    },
    {
      "cell_type": "code",
      "execution_count": null,
      "metadata": {
        "_cell_guid": "43dd152f-7c49-41b6-8f8e-a5864b1e2a71",
        "_execution_state": "idle",
        "_uuid": "e9d8c4bd191f77d8d275f53c0c1a6cf344151294",
        "collapsed": true,
        "colab": {
          "base_uri": "https://localhost:8080/"
        },
        "id": "P3AsSxC_mgf3",
        "outputId": "eede467e-a56c-484f-c8a5-dd2119747191"
      },
      "outputs": [
        {
          "output_type": "stream",
          "name": "stdout",
          "text": [
            "Gradient Boosting score: 18865.8535 (4092.3133)\n",
            "\n"
          ]
        }
      ],
      "source": [
        "score = rmsle_cv(GBoost)\n",
        "print(\"Gradient Boosting score: {:.4f} ({:.4f})\\n\".format(score.mean(), score.std()))"
      ]
    },
    {
      "cell_type": "code",
      "execution_count": null,
      "metadata": {
        "_cell_guid": "30738ecc-39f8-44ed-9f42-68518beb7e6a",
        "_execution_state": "idle",
        "_uuid": "5f52ccf39d01165e61a7c6be8b788be4e58e286b",
        "collapsed": true,
        "colab": {
          "base_uri": "https://localhost:8080/"
        },
        "id": "AGVbFO9Vmgf3",
        "outputId": "fe010c7c-85ce-4d6a-9706-70c313fd94a4"
      },
      "outputs": [
        {
          "output_type": "stream",
          "name": "stdout",
          "text": [
            "[12:37:12] WARNING: ../src/learner.cc:767: \n",
            "Parameters: { \"silent\" } are not used.\n",
            "\n",
            "[12:37:21] WARNING: ../src/learner.cc:767: \n",
            "Parameters: { \"silent\" } are not used.\n",
            "\n",
            "[12:37:32] WARNING: ../src/learner.cc:767: \n",
            "Parameters: { \"silent\" } are not used.\n",
            "\n",
            "[12:37:41] WARNING: ../src/learner.cc:767: \n",
            "Parameters: { \"silent\" } are not used.\n",
            "\n",
            "[12:37:51] WARNING: ../src/learner.cc:767: \n",
            "Parameters: { \"silent\" } are not used.\n",
            "\n",
            "Xgboost score: 7770.3316 (1374.2476)\n",
            "\n"
          ]
        }
      ],
      "source": [
        "score = rmsle_cv(model_xgb)\n",
        "print(\"Xgboost score: {:.4f} ({:.4f})\\n\".format(score.mean(), score.std()))"
      ]
    },
    {
      "cell_type": "code",
      "execution_count": null,
      "metadata": {
        "_cell_guid": "41e0eab9-630d-48d3-905b-e4663aad2262",
        "_execution_state": "idle",
        "_uuid": "5cd5377ee097fbc6fd14b42b4ea654221b097e59",
        "collapsed": true,
        "colab": {
          "base_uri": "https://localhost:8080/"
        },
        "id": "ZPFzcYgwmgf3",
        "outputId": "ec953ed6-bc6f-42fb-9eb7-65f86e35f850"
      },
      "outputs": [
        {
          "output_type": "stream",
          "name": "stdout",
          "text": [
            "[LightGBM] [Warning] min_sum_hessian_in_leaf is set=11, min_child_weight=0.001 will be ignored. Current value: min_sum_hessian_in_leaf=11\n",
            "[LightGBM] [Warning] min_data_in_leaf is set=6, min_child_samples=20 will be ignored. Current value: min_data_in_leaf=6\n",
            "[LightGBM] [Warning] feature_fraction is set=0.2319, colsample_bytree=1.0 will be ignored. Current value: feature_fraction=0.2319\n",
            "[LightGBM] [Warning] bagging_fraction is set=0.8, subsample=1.0 will be ignored. Current value: bagging_fraction=0.8\n",
            "[LightGBM] [Warning] bagging_freq is set=5, subsample_freq=0 will be ignored. Current value: bagging_freq=5\n",
            "[LightGBM] [Warning] min_sum_hessian_in_leaf is set=11, min_child_weight=0.001 will be ignored. Current value: min_sum_hessian_in_leaf=11\n",
            "[LightGBM] [Warning] min_data_in_leaf is set=6, min_child_samples=20 will be ignored. Current value: min_data_in_leaf=6\n",
            "[LightGBM] [Warning] feature_fraction is set=0.2319, colsample_bytree=1.0 will be ignored. Current value: feature_fraction=0.2319\n",
            "[LightGBM] [Warning] bagging_fraction is set=0.8, subsample=1.0 will be ignored. Current value: bagging_fraction=0.8\n",
            "[LightGBM] [Warning] bagging_freq is set=5, subsample_freq=0 will be ignored. Current value: bagging_freq=5\n",
            "[LightGBM] [Warning] Auto-choosing row-wise multi-threading, the overhead of testing was 0.001189 seconds.\n",
            "You can set `force_row_wise=true` to remove the overhead.\n",
            "And if memory is not enough, you can set `force_col_wise=true`.\n",
            "[LightGBM] [Info] Total Bins 1557\n",
            "[LightGBM] [Info] Number of data points in the train set: 1168, number of used features: 177\n",
            "[LightGBM] [Info] Start training from score 180717.091610\n",
            "[LightGBM] [Warning] min_sum_hessian_in_leaf is set=11, min_child_weight=0.001 will be ignored. Current value: min_sum_hessian_in_leaf=11\n",
            "[LightGBM] [Warning] min_data_in_leaf is set=6, min_child_samples=20 will be ignored. Current value: min_data_in_leaf=6\n",
            "[LightGBM] [Warning] feature_fraction is set=0.2319, colsample_bytree=1.0 will be ignored. Current value: feature_fraction=0.2319\n",
            "[LightGBM] [Warning] bagging_fraction is set=0.8, subsample=1.0 will be ignored. Current value: bagging_fraction=0.8\n",
            "[LightGBM] [Warning] bagging_freq is set=5, subsample_freq=0 will be ignored. Current value: bagging_freq=5\n",
            "[LightGBM] [Warning] min_sum_hessian_in_leaf is set=11, min_child_weight=0.001 will be ignored. Current value: min_sum_hessian_in_leaf=11\n",
            "[LightGBM] [Warning] min_data_in_leaf is set=6, min_child_samples=20 will be ignored. Current value: min_data_in_leaf=6\n",
            "[LightGBM] [Warning] feature_fraction is set=0.2319, colsample_bytree=1.0 will be ignored. Current value: feature_fraction=0.2319\n",
            "[LightGBM] [Warning] bagging_fraction is set=0.8, subsample=1.0 will be ignored. Current value: bagging_fraction=0.8\n",
            "[LightGBM] [Warning] bagging_freq is set=5, subsample_freq=0 will be ignored. Current value: bagging_freq=5\n",
            "[LightGBM] [Warning] min_sum_hessian_in_leaf is set=11, min_child_weight=0.001 will be ignored. Current value: min_sum_hessian_in_leaf=11\n",
            "[LightGBM] [Warning] min_data_in_leaf is set=6, min_child_samples=20 will be ignored. Current value: min_data_in_leaf=6\n",
            "[LightGBM] [Warning] feature_fraction is set=0.2319, colsample_bytree=1.0 will be ignored. Current value: feature_fraction=0.2319\n",
            "[LightGBM] [Warning] bagging_fraction is set=0.8, subsample=1.0 will be ignored. Current value: bagging_fraction=0.8\n",
            "[LightGBM] [Warning] bagging_freq is set=5, subsample_freq=0 will be ignored. Current value: bagging_freq=5\n",
            "[LightGBM] [Warning] Auto-choosing row-wise multi-threading, the overhead of testing was 0.001140 seconds.\n",
            "You can set `force_row_wise=true` to remove the overhead.\n",
            "And if memory is not enough, you can set `force_col_wise=true`.\n",
            "[LightGBM] [Info] Total Bins 1565\n",
            "[LightGBM] [Info] Number of data points in the train set: 1168, number of used features: 177\n",
            "[LightGBM] [Info] Start training from score 180407.575342\n",
            "[LightGBM] [Warning] min_sum_hessian_in_leaf is set=11, min_child_weight=0.001 will be ignored. Current value: min_sum_hessian_in_leaf=11\n",
            "[LightGBM] [Warning] min_data_in_leaf is set=6, min_child_samples=20 will be ignored. Current value: min_data_in_leaf=6\n",
            "[LightGBM] [Warning] feature_fraction is set=0.2319, colsample_bytree=1.0 will be ignored. Current value: feature_fraction=0.2319\n",
            "[LightGBM] [Warning] bagging_fraction is set=0.8, subsample=1.0 will be ignored. Current value: bagging_fraction=0.8\n",
            "[LightGBM] [Warning] bagging_freq is set=5, subsample_freq=0 will be ignored. Current value: bagging_freq=5\n",
            "[LightGBM] [Warning] min_sum_hessian_in_leaf is set=11, min_child_weight=0.001 will be ignored. Current value: min_sum_hessian_in_leaf=11\n",
            "[LightGBM] [Warning] min_data_in_leaf is set=6, min_child_samples=20 will be ignored. Current value: min_data_in_leaf=6\n",
            "[LightGBM] [Warning] feature_fraction is set=0.2319, colsample_bytree=1.0 will be ignored. Current value: feature_fraction=0.2319\n",
            "[LightGBM] [Warning] bagging_fraction is set=0.8, subsample=1.0 will be ignored. Current value: bagging_fraction=0.8\n",
            "[LightGBM] [Warning] bagging_freq is set=5, subsample_freq=0 will be ignored. Current value: bagging_freq=5\n",
            "[LightGBM] [Warning] min_sum_hessian_in_leaf is set=11, min_child_weight=0.001 will be ignored. Current value: min_sum_hessian_in_leaf=11\n",
            "[LightGBM] [Warning] min_data_in_leaf is set=6, min_child_samples=20 will be ignored. Current value: min_data_in_leaf=6\n",
            "[LightGBM] [Warning] feature_fraction is set=0.2319, colsample_bytree=1.0 will be ignored. Current value: feature_fraction=0.2319\n",
            "[LightGBM] [Warning] bagging_fraction is set=0.8, subsample=1.0 will be ignored. Current value: bagging_fraction=0.8\n",
            "[LightGBM] [Warning] bagging_freq is set=5, subsample_freq=0 will be ignored. Current value: bagging_freq=5\n",
            "[LightGBM] [Warning] Auto-choosing row-wise multi-threading, the overhead of testing was 0.001596 seconds.\n",
            "You can set `force_row_wise=true` to remove the overhead.\n",
            "And if memory is not enough, you can set `force_col_wise=true`.\n",
            "[LightGBM] [Info] Total Bins 1555\n",
            "[LightGBM] [Info] Number of data points in the train set: 1168, number of used features: 177\n",
            "[LightGBM] [Info] Start training from score 180007.375000\n",
            "[LightGBM] [Warning] min_sum_hessian_in_leaf is set=11, min_child_weight=0.001 will be ignored. Current value: min_sum_hessian_in_leaf=11\n",
            "[LightGBM] [Warning] min_data_in_leaf is set=6, min_child_samples=20 will be ignored. Current value: min_data_in_leaf=6\n",
            "[LightGBM] [Warning] feature_fraction is set=0.2319, colsample_bytree=1.0 will be ignored. Current value: feature_fraction=0.2319\n",
            "[LightGBM] [Warning] bagging_fraction is set=0.8, subsample=1.0 will be ignored. Current value: bagging_fraction=0.8\n",
            "[LightGBM] [Warning] bagging_freq is set=5, subsample_freq=0 will be ignored. Current value: bagging_freq=5\n",
            "[LightGBM] [Warning] min_sum_hessian_in_leaf is set=11, min_child_weight=0.001 will be ignored. Current value: min_sum_hessian_in_leaf=11\n",
            "[LightGBM] [Warning] min_data_in_leaf is set=6, min_child_samples=20 will be ignored. Current value: min_data_in_leaf=6\n",
            "[LightGBM] [Warning] feature_fraction is set=0.2319, colsample_bytree=1.0 will be ignored. Current value: feature_fraction=0.2319\n",
            "[LightGBM] [Warning] bagging_fraction is set=0.8, subsample=1.0 will be ignored. Current value: bagging_fraction=0.8\n",
            "[LightGBM] [Warning] bagging_freq is set=5, subsample_freq=0 will be ignored. Current value: bagging_freq=5\n",
            "[LightGBM] [Warning] min_sum_hessian_in_leaf is set=11, min_child_weight=0.001 will be ignored. Current value: min_sum_hessian_in_leaf=11\n",
            "[LightGBM] [Warning] min_data_in_leaf is set=6, min_child_samples=20 will be ignored. Current value: min_data_in_leaf=6\n",
            "[LightGBM] [Warning] feature_fraction is set=0.2319, colsample_bytree=1.0 will be ignored. Current value: feature_fraction=0.2319\n",
            "[LightGBM] [Warning] bagging_fraction is set=0.8, subsample=1.0 will be ignored. Current value: bagging_fraction=0.8\n",
            "[LightGBM] [Warning] bagging_freq is set=5, subsample_freq=0 will be ignored. Current value: bagging_freq=5\n",
            "[LightGBM] [Warning] Auto-choosing row-wise multi-threading, the overhead of testing was 0.001725 seconds.\n",
            "You can set `force_row_wise=true` to remove the overhead.\n",
            "And if memory is not enough, you can set `force_col_wise=true`.\n",
            "[LightGBM] [Info] Total Bins 1566\n",
            "[LightGBM] [Info] Number of data points in the train set: 1168, number of used features: 176\n",
            "[LightGBM] [Info] Start training from score 182883.660103\n",
            "[LightGBM] [Warning] min_sum_hessian_in_leaf is set=11, min_child_weight=0.001 will be ignored. Current value: min_sum_hessian_in_leaf=11\n",
            "[LightGBM] [Warning] min_data_in_leaf is set=6, min_child_samples=20 will be ignored. Current value: min_data_in_leaf=6\n",
            "[LightGBM] [Warning] feature_fraction is set=0.2319, colsample_bytree=1.0 will be ignored. Current value: feature_fraction=0.2319\n",
            "[LightGBM] [Warning] bagging_fraction is set=0.8, subsample=1.0 will be ignored. Current value: bagging_fraction=0.8\n",
            "[LightGBM] [Warning] bagging_freq is set=5, subsample_freq=0 will be ignored. Current value: bagging_freq=5\n",
            "[LightGBM] [Warning] min_sum_hessian_in_leaf is set=11, min_child_weight=0.001 will be ignored. Current value: min_sum_hessian_in_leaf=11\n",
            "[LightGBM] [Warning] min_data_in_leaf is set=6, min_child_samples=20 will be ignored. Current value: min_data_in_leaf=6\n",
            "[LightGBM] [Warning] feature_fraction is set=0.2319, colsample_bytree=1.0 will be ignored. Current value: feature_fraction=0.2319\n",
            "[LightGBM] [Warning] bagging_fraction is set=0.8, subsample=1.0 will be ignored. Current value: bagging_fraction=0.8\n",
            "[LightGBM] [Warning] bagging_freq is set=5, subsample_freq=0 will be ignored. Current value: bagging_freq=5\n",
            "[LightGBM] [Warning] min_sum_hessian_in_leaf is set=11, min_child_weight=0.001 will be ignored. Current value: min_sum_hessian_in_leaf=11\n",
            "[LightGBM] [Warning] min_data_in_leaf is set=6, min_child_samples=20 will be ignored. Current value: min_data_in_leaf=6\n",
            "[LightGBM] [Warning] feature_fraction is set=0.2319, colsample_bytree=1.0 will be ignored. Current value: feature_fraction=0.2319\n",
            "[LightGBM] [Warning] bagging_fraction is set=0.8, subsample=1.0 will be ignored. Current value: bagging_fraction=0.8\n",
            "[LightGBM] [Warning] bagging_freq is set=5, subsample_freq=0 will be ignored. Current value: bagging_freq=5\n",
            "[LightGBM] [Warning] Auto-choosing row-wise multi-threading, the overhead of testing was 0.001210 seconds.\n",
            "You can set `force_row_wise=true` to remove the overhead.\n",
            "And if memory is not enough, you can set `force_col_wise=true`.\n",
            "[LightGBM] [Info] Total Bins 1559\n",
            "[LightGBM] [Info] Number of data points in the train set: 1168, number of used features: 177\n",
            "[LightGBM] [Info] Start training from score 180590.277397\n",
            "[LightGBM] [Warning] min_sum_hessian_in_leaf is set=11, min_child_weight=0.001 will be ignored. Current value: min_sum_hessian_in_leaf=11\n",
            "[LightGBM] [Warning] min_data_in_leaf is set=6, min_child_samples=20 will be ignored. Current value: min_data_in_leaf=6\n",
            "[LightGBM] [Warning] feature_fraction is set=0.2319, colsample_bytree=1.0 will be ignored. Current value: feature_fraction=0.2319\n",
            "[LightGBM] [Warning] bagging_fraction is set=0.8, subsample=1.0 will be ignored. Current value: bagging_fraction=0.8\n",
            "[LightGBM] [Warning] bagging_freq is set=5, subsample_freq=0 will be ignored. Current value: bagging_freq=5\n",
            "LGBM score: 16000.3141 (3706.5382)\n",
            "\n"
          ]
        }
      ],
      "source": [
        "score = rmsle_cv(model_lgb)\n",
        "print(\"LGBM score: {:.4f} ({:.4f})\\n\" .format(score.mean(), score.std()))"
      ]
    },
    {
      "cell_type": "markdown",
      "metadata": {
        "_cell_guid": "999a8cc6-5083-4fca-bc90-616ac2f3ef8b",
        "_execution_state": "idle",
        "_uuid": "b7b74b70e6514b7623bc67cfec2b4f5d37c98707",
        "id": "sJXpLfS1mgf7"
      },
      "source": [
        "###Entrenamiento y predicción sobre el conjunto de test"
      ]
    },
    {
      "cell_type": "markdown",
      "metadata": {
        "_cell_guid": "6c322757-44c0-4c81-a319-1aa6ccdf440f",
        "_execution_state": "idle",
        "_uuid": "06a0eafc07a8dae002f3fc1499849ebf7ec014be",
        "id": "Er9W5ATcmgf7"
      },
      "source": [
        "**XGBoost:**"
      ]
    },
    {
      "cell_type": "code",
      "execution_count": null,
      "metadata": {
        "_cell_guid": "2af45055-47aa-4e26-84df-ba5726bdff54",
        "_execution_state": "idle",
        "_uuid": "c80de2558910e4091f087a99bfcb202f01033ad7",
        "collapsed": true,
        "colab": {
          "base_uri": "https://localhost:8080/"
        },
        "id": "gS81TmF5mgf8",
        "outputId": "907c15e7-db75-42a0-c41c-5b2f6d96bb6c"
      },
      "outputs": [
        {
          "output_type": "stream",
          "name": "stdout",
          "text": [
            "[12:38:00] WARNING: ../src/learner.cc:767: \n",
            "Parameters: { \"silent\" } are not used.\n",
            "\n"
          ]
        },
        {
          "output_type": "stream",
          "name": "stderr",
          "text": [
            "<ipython-input-52-d16ff03e07db>:3: RuntimeWarning: overflow encountered in expm1\n",
            "  xgb_pred = np.expm1(model_xgb.predict(test))\n"
          ]
        }
      ],
      "source": [
        "model_xgb.fit(train, y_train)\n",
        "xgb_train_pred = model_xgb.predict(train)\n",
        "xgb_pred = np.expm1(model_xgb.predict(test))"
      ]
    },
    {
      "cell_type": "markdown",
      "source": [
        "En este ejemplo no se dispone de las etiquetas reales para los datos de test, pero en caso de disponibles se deberá realizar una medición final sobre estos datos con el método seleccionado."
      ],
      "metadata": {
        "id": "uYeJ7inaKF-v"
      }
    },
    {
      "cell_type": "markdown",
      "source": [
        "# Resultados"
      ],
      "metadata": {
        "id": "ZcPe_xPJed95"
      }
    },
    {
      "cell_type": "markdown",
      "source": [],
      "metadata": {
        "id": "HDEAiTJQeg-t"
      }
    },
    {
      "cell_type": "markdown",
      "source": [
        "# Entregable"
      ],
      "metadata": {
        "id": "1M3JweBldC4W"
      }
    },
    {
      "cell_type": "markdown",
      "source": [
        "Deberán enviar al correo diplo.cienciadedatos@uader.edu.ar con el Colab completo con el código funcionando. Además, deberán incluir, un pequeño informe en pdf (El pdf puede ser la impresión del colab con código y texto que hayan ido comentando en cada paso) donde muestren: a qué llegaron, que vieron en el análisis exploratorio? qué decisiones tomaron en el preprocesamiento de datos? Además de un analisis final de los resultados: explicar qué funcionó mejor ese modelo? porqué creen que paso eso? Comenten todo lo que crean necesario."
      ],
      "metadata": {
        "id": "dJBh6SGsdDh7"
      }
    }
  ],
  "metadata": {
    "kernelspec": {
      "display_name": "Python 3",
      "language": "python",
      "name": "python3"
    },
    "language_info": {
      "codemirror_mode": {
        "name": "ipython",
        "version": 3
      },
      "file_extension": ".py",
      "mimetype": "text/x-python",
      "name": "python",
      "nbconvert_exporter": "python",
      "pygments_lexer": "ipython3",
      "version": "3.6.3"
    },
    "colab": {
      "provenance": []
    }
  },
  "nbformat": 4,
  "nbformat_minor": 0
}