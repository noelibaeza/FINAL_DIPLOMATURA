{
  "cells": [
    {
      "cell_type": "markdown",
      "metadata": {
        "id": "JFnlWP_BWkmM"
      },
      "source": [
        "## Trabajo Final - Diplomatura en Ciencia de Datos Aplicada 📊\n",
        "### Integrantes:\n",
        "* Boladeras Facundo\n",
        "* Fontanini Pablo\n",
        "* Miller Marcos\n",
        "* Baeza Noeli"
      ]
    },
    {
      "cell_type": "code",
      "execution_count": null,
      "metadata": {
        "id": "fUEcXVwgWkmX"
      },
      "outputs": [],
      "source": [
        "# Liberias\n",
        "import pandas as pd\n",
        "import numpy as np\n",
        "import matplotlib.pyplot as plt\n",
        "\n"
      ]
    },
    {
      "cell_type": "code",
      "execution_count": null,
      "metadata": {
        "id": "5gCAC5XpWkmc"
      },
      "outputs": [],
      "source": [
        "# Lectura del csv\n",
        "df = pd.read_csv(\"./data/datos.csv\")"
      ]
    },
    {
      "cell_type": "code",
      "execution_count": null,
      "metadata": {
        "id": "1-nT-LM3Wkmd",
        "outputId": "dd21af6e-7433-452a-ee6f-a4720ec872c4"
      },
      "outputs": [
        {
          "data": {
            "text/html": [
              "<div>\n",
              "<style scoped>\n",
              "    .dataframe tbody tr th:only-of-type {\n",
              "        vertical-align: middle;\n",
              "    }\n",
              "\n",
              "    .dataframe tbody tr th {\n",
              "        vertical-align: top;\n",
              "    }\n",
              "\n",
              "    .dataframe thead th {\n",
              "        text-align: right;\n",
              "    }\n",
              "</style>\n",
              "<table border=\"1\" class=\"dataframe\">\n",
              "  <thead>\n",
              "    <tr style=\"text-align: right;\">\n",
              "      <th></th>\n",
              "      <th>CICLO</th>\n",
              "      <th>EVENTO</th>\n",
              "      <th>LOTE</th>\n",
              "      <th>SUP</th>\n",
              "      <th>pp Nov</th>\n",
              "      <th>pp Dic</th>\n",
              "      <th>pp Ene</th>\n",
              "      <th>IPC</th>\n",
              "      <th>EROSION POTENCIAL</th>\n",
              "      <th>EVI 1 Nov media</th>\n",
              "      <th>...</th>\n",
              "      <th>EVI 17 Ene min</th>\n",
              "      <th>EVI 17 Ene max</th>\n",
              "      <th>EVI 2 Feb media</th>\n",
              "      <th>EVI 2 Feb min</th>\n",
              "      <th>EVI 2 Feb max</th>\n",
              "      <th>RINDE</th>\n",
              "      <th>H_Nov</th>\n",
              "      <th>H_Dic</th>\n",
              "      <th>H_Ene</th>\n",
              "      <th>Unnamed: 34</th>\n",
              "    </tr>\n",
              "  </thead>\n",
              "  <tbody>\n",
              "    <tr>\n",
              "      <th>0</th>\n",
              "      <td>2001/02</td>\n",
              "      <td>Neutro</td>\n",
              "      <td>TEMPEL N2</td>\n",
              "      <td>64.8</td>\n",
              "      <td>353</td>\n",
              "      <td>140</td>\n",
              "      <td>156</td>\n",
              "      <td>52</td>\n",
              "      <td>moderadamente susceptible</td>\n",
              "      <td>0.21</td>\n",
              "      <td>...</td>\n",
              "      <td>0.61</td>\n",
              "      <td>0.62</td>\n",
              "      <td>0.49</td>\n",
              "      <td>0.47</td>\n",
              "      <td>0.51</td>\n",
              "      <td>6675</td>\n",
              "      <td>1458</td>\n",
              "      <td>677</td>\n",
              "      <td>1064</td>\n",
              "      <td>NaN</td>\n",
              "    </tr>\n",
              "    <tr>\n",
              "      <th>1</th>\n",
              "      <td>2001/02</td>\n",
              "      <td>Neutro</td>\n",
              "      <td>3D</td>\n",
              "      <td>118.4</td>\n",
              "      <td>353</td>\n",
              "      <td>140</td>\n",
              "      <td>156</td>\n",
              "      <td>34</td>\n",
              "      <td>practicamente no susceptible</td>\n",
              "      <td>0.51</td>\n",
              "      <td>...</td>\n",
              "      <td>0.30</td>\n",
              "      <td>0.58</td>\n",
              "      <td>0.19</td>\n",
              "      <td>0.16</td>\n",
              "      <td>0.30</td>\n",
              "      <td>8357</td>\n",
              "      <td>1463</td>\n",
              "      <td>696</td>\n",
              "      <td>1111</td>\n",
              "      <td>NaN</td>\n",
              "    </tr>\n",
              "    <tr>\n",
              "      <th>2</th>\n",
              "      <td>2001/02</td>\n",
              "      <td>Neutro</td>\n",
              "      <td>6NORTE</td>\n",
              "      <td>143.6</td>\n",
              "      <td>353</td>\n",
              "      <td>140</td>\n",
              "      <td>156</td>\n",
              "      <td>32</td>\n",
              "      <td>moderadamente susceptible</td>\n",
              "      <td>0.48</td>\n",
              "      <td>...</td>\n",
              "      <td>0.29</td>\n",
              "      <td>0.34</td>\n",
              "      <td>0.19</td>\n",
              "      <td>0.16</td>\n",
              "      <td>0.33</td>\n",
              "      <td>7296</td>\n",
              "      <td>1459</td>\n",
              "      <td>689</td>\n",
              "      <td>1093</td>\n",
              "      <td>NaN</td>\n",
              "    </tr>\n",
              "    <tr>\n",
              "      <th>3</th>\n",
              "      <td>2001/02</td>\n",
              "      <td>Neutro</td>\n",
              "      <td>BUEYES NORTE</td>\n",
              "      <td>143.1</td>\n",
              "      <td>358</td>\n",
              "      <td>136</td>\n",
              "      <td>120</td>\n",
              "      <td>32</td>\n",
              "      <td>moderadamente susceptible</td>\n",
              "      <td>0.33</td>\n",
              "      <td>...</td>\n",
              "      <td>0.45</td>\n",
              "      <td>0.76</td>\n",
              "      <td>0.47</td>\n",
              "      <td>0.32</td>\n",
              "      <td>0.60</td>\n",
              "      <td>4668</td>\n",
              "      <td>1455</td>\n",
              "      <td>689</td>\n",
              "      <td>1092</td>\n",
              "      <td>NaN</td>\n",
              "    </tr>\n",
              "    <tr>\n",
              "      <th>4</th>\n",
              "      <td>2001/02</td>\n",
              "      <td>Neutro</td>\n",
              "      <td>4</td>\n",
              "      <td>69.4</td>\n",
              "      <td>337</td>\n",
              "      <td>153</td>\n",
              "      <td>170</td>\n",
              "      <td>50</td>\n",
              "      <td>moderadamente susceptible</td>\n",
              "      <td>0.37</td>\n",
              "      <td>...</td>\n",
              "      <td>0.48</td>\n",
              "      <td>0.53</td>\n",
              "      <td>0.30</td>\n",
              "      <td>0.29</td>\n",
              "      <td>0.34</td>\n",
              "      <td>5848</td>\n",
              "      <td>1483</td>\n",
              "      <td>759</td>\n",
              "      <td>1239</td>\n",
              "      <td>NaN</td>\n",
              "    </tr>\n",
              "  </tbody>\n",
              "</table>\n",
              "<p>5 rows × 35 columns</p>\n",
              "</div>"
            ],
            "text/plain": [
              "     CICLO  EVENTO          LOTE    SUP pp Nov pp Dic pp Ene IPC  \\\n",
              "0  2001/02  Neutro     TEMPEL N2   64.8    353    140    156  52   \n",
              "1  2001/02  Neutro            3D  118.4    353    140    156  34   \n",
              "2  2001/02  Neutro        6NORTE  143.6    353    140    156  32   \n",
              "3  2001/02  Neutro  BUEYES NORTE  143.1    358    136    120  32   \n",
              "4  2001/02  Neutro             4   69.4    337    153    170  50   \n",
              "\n",
              "              EROSION POTENCIAL  EVI 1 Nov media  ...  EVI 17 Ene min  \\\n",
              "0     moderadamente susceptible             0.21  ...            0.61   \n",
              "1  practicamente no susceptible             0.51  ...            0.30   \n",
              "2     moderadamente susceptible             0.48  ...            0.29   \n",
              "3     moderadamente susceptible             0.33  ...            0.45   \n",
              "4     moderadamente susceptible             0.37  ...            0.48   \n",
              "\n",
              "   EVI 17 Ene max  EVI 2 Feb media  EVI 2 Feb min  EVI 2 Feb max  RINDE  \\\n",
              "0            0.62             0.49           0.47           0.51   6675   \n",
              "1            0.58             0.19           0.16           0.30   8357   \n",
              "2            0.34             0.19           0.16           0.33   7296   \n",
              "3            0.76             0.47           0.32           0.60   4668   \n",
              "4            0.53             0.30           0.29           0.34   5848   \n",
              "\n",
              "   H_Nov  H_Dic  H_Ene  Unnamed: 34  \n",
              "0   1458    677   1064          NaN  \n",
              "1   1463    696   1111          NaN  \n",
              "2   1459    689   1093          NaN  \n",
              "3   1455    689   1092          NaN  \n",
              "4   1483    759   1239          NaN  \n",
              "\n",
              "[5 rows x 35 columns]"
            ]
          },
          "execution_count": 4,
          "metadata": {},
          "output_type": "execute_result"
        }
      ],
      "source": [
        "df.head()"
      ]
    },
    {
      "cell_type": "code",
      "execution_count": null,
      "metadata": {
        "id": "zO1Ifsc8Wkmg",
        "outputId": "9cde3808-2839-40f0-a975-0b8e8091c72c"
      },
      "outputs": [
        {
          "name": "stdout",
          "output_type": "stream",
          "text": [
            "El dataframe tiene 176 filas y 35 columnas\n"
          ]
        }
      ],
      "source": [
        "# Visualizar las dimensiones del dataframe\n",
        "df.shape\n",
        "print(\"El dataframe tiene\", df.shape[0], \"filas y\", df.shape[1], \"columnas\")"
      ]
    },
    {
      "cell_type": "code",
      "execution_count": null,
      "metadata": {
        "id": "_j6u0hunWkmi"
      },
      "outputs": [],
      "source": [
        "# Contabilizar los valores nulos\n",
        "df.isnull().sum()"
      ]
    },
    {
      "cell_type": "code",
      "execution_count": null,
      "metadata": {
        "id": "gsKdkOqUWkml"
      },
      "outputs": [],
      "source": [
        "# Consultar el tipo de datos de cada columna\n",
        "df.dtypes"
      ]
    }
  ],
  "metadata": {
    "kernelspec": {
      "display_name": "PRUEBAKAGGEL",
      "language": "python",
      "name": "python3"
    },
    "language_info": {
      "codemirror_mode": {
        "name": "ipython",
        "version": 3
      },
      "file_extension": ".py",
      "mimetype": "text/x-python",
      "name": "python",
      "nbconvert_exporter": "python",
      "pygments_lexer": "ipython3",
      "version": "3.10.11"
    },
    "orig_nbformat": 4,
    "colab": {
      "provenance": []
    }
  },
  "nbformat": 4,
  "nbformat_minor": 0
}